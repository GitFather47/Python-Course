{
 "cells": [
  {
   "cell_type": "code",
   "execution_count": 2,
   "id": "ae883f9a",
   "metadata": {},
   "outputs": [
    {
     "ename": "SyntaxError",
     "evalue": "(unicode error) 'unicodeescape' codec can't decode bytes in position 1-2: truncated \\UXXXXXXXX escape (2189699252.py, line 2)",
     "output_type": "error",
     "traceback": [
      "\u001b[1;36m  Input \u001b[1;32mIn [2]\u001b[1;36m\u001b[0m\n\u001b[1;33m    obj = canvas.sketch_from_image('C\\Users\\ARNOB\\Untitled Folder\\Serial Killer.jpg')\u001b[0m\n\u001b[1;37m                                                                                    ^\u001b[0m\n\u001b[1;31mSyntaxError\u001b[0m\u001b[1;31m:\u001b[0m (unicode error) 'unicodeescape' codec can't decode bytes in position 1-2: truncated \\UXXXXXXXX escape\n"
     ]
    }
   ],
   "source": [
    "from sketchpy import library as lib\n",
    "obj = canvas.sketch_from_image('C\\Users\\ARNOB\\Untitled Folder\\Serial Killer.jpg')\n",
    "obj = draw(threshold = 127)"
   ]
  },
  {
   "cell_type": "code",
   "execution_count": null,
   "id": "dd80ba6e",
   "metadata": {},
   "outputs": [],
   "source": [
    "#main --\n",
    "#from sketchpy import library as lib\n",
    "#obj = lib.rdj()\n",
    "#obj.draw() this is correct\n",
    "\n",
    "# Drawing from `SVG` file\n",
    "    \n",
    "#Use the following code to draw a file from svg file, insted of tracing full image\n",
    "    \n",
    "#### NOTE: use this specific website to convert image to svg, sketchpy is specifically made to work with this [website](https://svgconvert.com/#/) only\n",
    "    \n",
    "\n",
    "    #from sketchpy import canvas\n",
    "    #obj = canvas.draw_from_svg('FILE PATH')\n",
    "    #obj.draw()\n",
    "\n",
    "    \n",
    "# `Saving` a loaded svg file\n",
    "#Insted of waiting for the svg file to load, you can save as .npy file and use that for future use\n",
    "    \n",
    "\n",
    "    #from sketchpy import canvas\n",
    "    #obj = canvas.sketch_from_svg('FILE PATH')\n",
    "    #obj.load_svg(filename = 'data.npy')\n",
    "\n",
    "## Drawing form `.npy` file\n",
    "#use the following code to draw your image from saved data file\n",
    "    \n",
    "\n",
    "    #from sketchpy import canvas\n",
    "    #obj = canvas.sketch_from_svg('FILE PATH')\n",
    "    #obj.draw(filename = 'data.npy')\n",
    " \n",
    "    \n",
    "## Drawing from `raw image`\n",
    "    \n",
    "#use the following code to draw any image, it need not to be an svg file\n",
    "```\n",
    "    #from sketchpy import canvas\n",
    "    #obj = canvas.sketch_from_image('IMAGE PATH')\n",
    "    #obj = draw(threshold = 127)\n",
    "```\n",
    "#### NOTE: you can change the value of threshold to draw more detailed image, it's range is 0 - 255,use values between 90-190\n",
    "### Troubleshooting\n",
    "#- If you find any problem, you can pull request, or contact me on either [insta](https://www.instagram.com/mr.m_y_s_t_e_r_y/) or [discord](https://discord.gg/r2KFa73PM2)\n",
    "#- You can also find video on my [youtube channel](https://www.youtube.com/playlist?list=PLb1Kbw_2jl_mr3A_cl6pXA1N5lwtHCx_7)\n"
   ]
  }
 ],
 "metadata": {
  "kernelspec": {
   "display_name": "Python 3 (ipykernel)",
   "language": "python",
   "name": "python3"
  },
  "language_info": {
   "codemirror_mode": {
    "name": "ipython",
    "version": 3
   },
   "file_extension": ".py",
   "mimetype": "text/x-python",
   "name": "python",
   "nbconvert_exporter": "python",
   "pygments_lexer": "ipython3",
   "version": "3.9.12"
  }
 },
 "nbformat": 4,
 "nbformat_minor": 5
}
