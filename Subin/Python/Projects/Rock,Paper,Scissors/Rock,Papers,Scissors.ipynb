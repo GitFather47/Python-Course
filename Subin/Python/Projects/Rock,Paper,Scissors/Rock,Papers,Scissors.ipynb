{
 "cells": [
  {
   "cell_type": "code",
   "execution_count": 4,
   "id": "3e2fba0d",
   "metadata": {},
   "outputs": [
    {
     "name": "stdout",
     "output_type": "stream",
     "text": [
      "Rock,Paper,Scissors?Scissors\n",
      "Loser! Rock smash Scissors\n",
      "Rock,Paper,Scissors?End\n",
      "Final Scores\n",
      "PC 1\n",
      "Player 0\n",
      "Your existance is God's Failure.\n"
     ]
    }
   ],
   "source": [
    "import random\n",
    "moves = [\"Rock\",\"Paper\", \"Scissors\"]\n",
    "cpu=0\n",
    "plya=0\n",
    "pc=random.choice(moves)\n",
    "while True:\n",
    "    player=input(\"Rock,Paper,Scissors?\")\n",
    "    if pc==player:\n",
    "        print(\"Tie!\")\n",
    "    elif player==\"Rock\":\n",
    "        if pc == \"Paper\":\n",
    "            print(\"Loser!\",pc ,\"Covers\", player)\n",
    "            cpu+=1\n",
    "        else:\n",
    "            print(\"Ok,You win.\",player , \"Smashes\", pc)\n",
    "            plya+=1\n",
    "    elif player==\"Paper\":\n",
    "        if pc == \"Scissors\":\n",
    "            print(\"Loser!\",pc ,\"cuts\", player)\n",
    "            cpu+=1\n",
    "        else:\n",
    "            print(\"Ok,You win.\",player , \"covers\", pc)\n",
    "            plya+=1\n",
    "    elif player==\"Scissors\":\n",
    "        if pc == \"Rock\":\n",
    "            print(\"Loser!\",pc ,\"smash\", player)\n",
    "            cpu+=1\n",
    "        else:\n",
    "            print(\"Ok,You win.\",player , \"cuts\", pc)\n",
    "            plya+=1\n",
    "    elif player==\"End\":\n",
    "        print(\"Final Scores\")\n",
    "        print(\"PC\",cpu)\n",
    "        print(\"Player\",plya)\n",
    "        if cpu>plya:\n",
    "            print(\"Your existance is God's Failure.\")\n",
    "        elif cpu == plya:\n",
    "            print(\"Have some Chocky milk.\")\n",
    "        else:\n",
    "            print(\"You are inevitable.\")\n",
    "        break"
   ]
  }
 ],
 "metadata": {
  "kernelspec": {
   "display_name": "Python 3 (ipykernel)",
   "language": "python",
   "name": "python3"
  },
  "language_info": {
   "codemirror_mode": {
    "name": "ipython",
    "version": 3
   },
   "file_extension": ".py",
   "mimetype": "text/x-python",
   "name": "python",
   "nbconvert_exporter": "python",
   "pygments_lexer": "ipython3",
   "version": "3.9.12"
  }
 },
 "nbformat": 4,
 "nbformat_minor": 5
}
