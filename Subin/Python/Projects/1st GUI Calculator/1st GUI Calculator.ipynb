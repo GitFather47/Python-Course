{
 "cells": [
  {
   "cell_type": "code",
   "execution_count": 23,
   "id": "df947913",
   "metadata": {},
   "outputs": [],
   "source": [
    "import tkinter as tk\n",
    "win=tk.Tk()\n",
    "win.geometry(\"200x200\")\n",
    "win.title(\"Calculator\")\n",
    "\n",
    "entry1=tk.Entry(win)\n",
    "entry1.grid(row=0,column=2)\n",
    "entry2=tk.Entry(win)\n",
    "entry2.grid(row=1,column=2)\n",
    "label1=tk.Label(win, text=\"Num1\")\n",
    "label1.grid(row=0,column=0)\n",
    "label2=tk.Label(win, text=\"Num1\")\n",
    "label2.grid(row=1,column=0)\n",
    "label3=tk.Label(win, text=\"0\") \n",
    "label3.grid(row=3,column=2)\n",
    "def add():\n",
    "    a= float(entry1.get())\n",
    "    b= float(entry2.get())\n",
    "    c = a + b \n",
    "    label3.config(text=str(c))\n",
    "    \n",
    "def sub():\n",
    "    a= float(entry1.get())\n",
    "    b= float(entry2.get())\n",
    "    c = a - b \n",
    "    label3.config(text=str(c))\n",
    "    \n",
    "def mul():\n",
    "    a= float(entry1.get())\n",
    "    b= float(entry2.get())\n",
    "    c = a * b \n",
    "    label3.config(text=str(c))\n",
    "\n",
    "def div():\n",
    "    a= float(entry1.get())\n",
    "    b= float(entry2.get())\n",
    "    c = a / b \n",
    "    label3.config(text=str(c))\n",
    "\n",
    "button1=tk.Button(win, text=\"+\", command=add)\n",
    "button1.grid(row=2,column=0)\n",
    "button2=tk.Button(win, text=\"-\", command=sub)\n",
    "button2.grid(row=2,column=1)\n",
    "button3=tk.Button(win, text=\"x\", command=mul)\n",
    "button3.grid(row=2,column=2)\n",
    "button4=tk.Button(win, text=\"÷\", command=div)\n",
    "button4.grid(row=2,column=3)\n",
    "win.mainloop()"
   ]
  }
 ],
 "metadata": {
  "kernelspec": {
   "display_name": "Python 3 (ipykernel)",
   "language": "python",
   "name": "python3"
  },
  "language_info": {
   "codemirror_mode": {
    "name": "ipython",
    "version": 3
   },
   "file_extension": ".py",
   "mimetype": "text/x-python",
   "name": "python",
   "nbconvert_exporter": "python",
   "pygments_lexer": "ipython3",
   "version": "3.9.12"
  }
 },
 "nbformat": 4,
 "nbformat_minor": 5
}
