{
 "cells": [
  {
   "cell_type": "code",
   "execution_count": 3,
   "id": "c4fb8e7d",
   "metadata": {},
   "outputs": [
    {
     "name": "stdout",
     "output_type": "stream",
     "text": [
      "Password:2\n",
      "xH\n"
     ]
    }
   ],
   "source": [
    "import random\n",
    "n =int(input(\"Password:\" ))\n",
    "def pas(n):\n",
    "    characters = ['A','B','C','D','E','F','G','H','I','J','K','L','M','N','O','P','Q','R','S','T','U','V','W','X','Y','Z',\n",
    "                'a','b','c','d','e','f','g','h','i','j','k','l','m','n','o','p','q','r','s','t','u','v','w','x','y','z',\n",
    "                '0','1','2','3','4','5','6','7','8','9','!','@','#','$','%','^','&','*','(',')','-','_','+','=',\n",
    "                '[',']','{','}','|',':',';','\"','<','>',',','.','?','/','`~']\n",
    "    i=0\n",
    "    password=\"\"\n",
    "    while i<n:\n",
    "        password += random.choice(characters)\n",
    "        i+=1\n",
    "    print(password)\n",
    "pas(n)"
   ]
  }
 ],
 "metadata": {
  "kernelspec": {
   "display_name": "Python 3 (ipykernel)",
   "language": "python",
   "name": "python3"
  },
  "language_info": {
   "codemirror_mode": {
    "name": "ipython",
    "version": 3
   },
   "file_extension": ".py",
   "mimetype": "text/x-python",
   "name": "python",
   "nbconvert_exporter": "python",
   "pygments_lexer": "ipython3",
   "version": "3.9.12"
  }
 },
 "nbformat": 4,
 "nbformat_minor": 5
}
