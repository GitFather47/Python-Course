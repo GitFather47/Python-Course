{
 "cells": [
  {
   "cell_type": "code",
   "execution_count": 1,
   "id": "6676e08a",
   "metadata": {},
   "outputs": [],
   "source": [
    "from tkinter import *\n",
    "import random\n",
    "win=Tk()\n",
    "win.title(\"Password Generator\")\n",
    "heading=Label(win, text=\"Password Generator\",font=(\"roboto\",20))\n",
    "heading.pack()\n",
    "win.geometry(\"425x150\")\n",
    "n=Entry(win)\n",
    "n.pack()\n",
    "def work():\n",
    "    characters = ['A','B','C','D','E','F','G','H','I','J','K','L','M','N','O','P','Q','R','S','T','U','V','W','X','Y','Z',\n",
    "                'a','b','c','d','e','f','g','h','i','j','k','l','m','n','o','p','q','r','s','t','u','v','w','x','y','z',\n",
    "                '0','1','2','3','4','5','6','7','8','9','!','@','#','$','%','^','&','*','(',')','-','_','+','=',\n",
    "                '[',']','{','}','|',':',';','\"','<','>',',','.','?','/','`~']\n",
    "    i=0\n",
    "    password=\"\"\n",
    "    while i<int(n.get()):\n",
    "        password += random.choice(characters)\n",
    "        i+=1\n",
    "    pass_entry.delete(0,END)\n",
    "    pass_entry.insert(0, password)    \n",
    "\n",
    "gen_butt=Button(win, text=\"Generate\",command=work)\n",
    "gen_butt.pack()\n",
    "pass_entry=Entry(win)\n",
    "\n",
    "pass_entry.pack()\n",
    "\n",
    "win.mainloop()"
   ]
  }
 ],
 "metadata": {
  "kernelspec": {
   "display_name": "Python 3 (ipykernel)",
   "language": "python",
   "name": "python3"
  },
  "language_info": {
   "codemirror_mode": {
    "name": "ipython",
    "version": 3
   },
   "file_extension": ".py",
   "mimetype": "text/x-python",
   "name": "python",
   "nbconvert_exporter": "python",
   "pygments_lexer": "ipython3",
   "version": "3.9.12"
  }
 },
 "nbformat": 4,
 "nbformat_minor": 5
}
