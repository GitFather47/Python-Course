{
 "cells": [
  {
   "cell_type": "code",
   "execution_count": null,
   "id": "63f49a43",
   "metadata": {},
   "outputs": [],
   "source": [
    "import time \n",
    "\n",
    "def timer(hours,minutes,seconds):\n",
    "    totalSec= hours*3600+minutes*60+seconds\n",
    "    while totalSec:\n",
    "        hours,remainder=divmod(totalSec,3600)\n",
    "        mins,secs=divmod(remainder,60)\n",
    "        print(\"hours:{h},minutes:{mint},seconds:{sec}\".format(h=hours,mint=mins,sec=secs),end=\"\\r\")\n",
    "        time.sleep(1)\n",
    "        totalSec-=1\n",
    "    print(\"TIMES UP!                            \",end=\"\\r\")\n",
    "    #\\r ==overwrite a line"
   ]
  },
  {
   "cell_type": "code",
   "execution_count": null,
   "id": "aa3e030e",
   "metadata": {},
   "outputs": [],
   "source": [
    "timer(0,1,30)"
   ]
  }
 ],
 "metadata": {
  "kernelspec": {
   "display_name": "Python 3 (ipykernel)",
   "language": "python",
   "name": "python3"
  },
  "language_info": {
   "codemirror_mode": {
    "name": "ipython",
    "version": 3
   },
   "file_extension": ".py",
   "mimetype": "text/x-python",
   "name": "python",
   "nbconvert_exporter": "python",
   "pygments_lexer": "ipython3",
   "version": "3.9.12"
  }
 },
 "nbformat": 4,
 "nbformat_minor": 5
}
