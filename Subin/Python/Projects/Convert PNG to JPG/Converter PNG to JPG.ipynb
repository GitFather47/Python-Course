{
 "cells": [
  {
   "cell_type": "code",
   "execution_count": 1,
   "id": "6ca89383",
   "metadata": {},
   "outputs": [],
   "source": [
    "import tkinter as tk\n",
    "from tkinter import filedialog\n",
    "from PIL import Image\n",
    "\n",
    "root = tk.Tk()\n",
    "canvas1 = tk.Canvas(root, width=300, height=250, bg='azure3', relief='raised')\n",
    "canvas1.pack()\n",
    "\n",
    "label1 = tk.Label(root, text=\"Image Converter\", bg='azure3')\n",
    "label1.config(font=('Tahoma', 20))\n",
    "canvas1.create_window(150, 60, window=label1)\n",
    "\n",
    "def getPNG():\n",
    "    global lm1\n",
    "    import_file_path = filedialog.askopenfilename()\n",
    "    lm1 = Image.open(import_file_path)\n",
    "\n",
    "browse_png = tk.Button(text=\"Choose PNG image\", command=getPNG, bg=\"royalblue\", fg='white', font=('Tahoma', 12, 'bold'))\n",
    "canvas1.create_window(150, 130, window=browse_png)\n",
    "\n",
    "def convert():\n",
    "    global lm1\n",
    "    export_file_path = filedialog.asksaveasfilename(defaultextension='jpg')\n",
    "    lm1 = lm1.convert('RGB')\n",
    "    lm1.save(export_file_path)\n",
    "\n",
    "saveasbutton = tk.Button(text=\"Convert PNG to JPG\", command=convert, bg=\"royalblue\", fg='white', font=('Tahoma', 12, 'bold'))\n",
    "canvas1.create_window(150, 180, window=saveasbutton)\n",
    "root.mainloop()\n"
   ]
  },
  {
   "cell_type": "code",
   "execution_count": null,
   "id": "f66ae84b",
   "metadata": {},
   "outputs": [],
   "source": []
  }
 ],
 "metadata": {
  "kernelspec": {
   "display_name": "Python 3 (ipykernel)",
   "language": "python",
   "name": "python3"
  },
  "language_info": {
   "codemirror_mode": {
    "name": "ipython",
    "version": 3
   },
   "file_extension": ".py",
   "mimetype": "text/x-python",
   "name": "python",
   "nbconvert_exporter": "python",
   "pygments_lexer": "ipython3",
   "version": "3.9.12"
  }
 },
 "nbformat": 4,
 "nbformat_minor": 5
}
