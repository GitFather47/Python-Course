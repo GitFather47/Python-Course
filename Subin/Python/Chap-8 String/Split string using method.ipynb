{
 "cells": [
  {
   "cell_type": "code",
   "execution_count": 1,
   "id": "ac589b1a",
   "metadata": {},
   "outputs": [],
   "source": [
    "str = \"There aren't cougars in missions\"\n",
    "words = str.split()"
   ]
  },
  {
   "cell_type": "code",
   "execution_count": 2,
   "id": "f53b7e0d",
   "metadata": {},
   "outputs": [
    {
     "name": "stdout",
     "output_type": "stream",
     "text": [
      "['There', \"aren't\", 'cougars', 'in', 'missions']\n"
     ]
    }
   ],
   "source": [
    "print(words)"
   ]
  },
  {
   "cell_type": "code",
   "execution_count": 3,
   "id": "722a139f",
   "metadata": {},
   "outputs": [
    {
     "data": {
      "text/plain": [
       "['There', \"aren't\", 'cougars', 'in', 'missions']"
      ]
     },
     "execution_count": 3,
     "metadata": {},
     "output_type": "execute_result"
    }
   ],
   "source": [
    "words"
   ]
  },
  {
   "cell_type": "code",
   "execution_count": 4,
   "id": "b5167be9",
   "metadata": {},
   "outputs": [
    {
     "name": "stdout",
     "output_type": "stream",
     "text": [
      "There\n",
      "aren't\n",
      "cougars\n",
      "in\n",
      "missions\n"
     ]
    }
   ],
   "source": [
    "for word in words:\n",
    "    print(word)"
   ]
  }
 ],
 "metadata": {
  "kernelspec": {
   "display_name": "Python 3 (ipykernel)",
   "language": "python",
   "name": "python3"
  },
  "language_info": {
   "codemirror_mode": {
    "name": "ipython",
    "version": 3
   },
   "file_extension": ".py",
   "mimetype": "text/x-python",
   "name": "python",
   "nbconvert_exporter": "python",
   "pygments_lexer": "ipython3",
   "version": "3.9.12"
  }
 },
 "nbformat": 4,
 "nbformat_minor": 5
}
