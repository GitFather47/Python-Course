{
 "cells": [
  {
   "cell_type": "code",
   "execution_count": 1,
   "id": "6151d91e",
   "metadata": {},
   "outputs": [],
   "source": [
    "country = \"United Kingdom\"\n",
    "new_country=country.replace(\"Kingdom\", \"States\")"
   ]
  },
  {
   "cell_type": "code",
   "execution_count": 2,
   "id": "f5480265",
   "metadata": {},
   "outputs": [
    {
     "name": "stdout",
     "output_type": "stream",
     "text": [
      "United States\n",
      "United Kingdom\n"
     ]
    }
   ],
   "source": [
    "print(new_country)\n",
    "print(country)"
   ]
  },
  {
   "cell_type": "code",
   "execution_count": 3,
   "id": "8b70c92b",
   "metadata": {},
   "outputs": [],
   "source": [
    "text=\"this is a boy.this is another boy.this is final boy\"\n",
    "new_text=text.replace(\"this\", \"This\")"
   ]
  },
  {
   "cell_type": "code",
   "execution_count": 4,
   "id": "4ebf209d",
   "metadata": {},
   "outputs": [
    {
     "name": "stdout",
     "output_type": "stream",
     "text": [
      "This is a boy.This is another boy.This is final boy\n",
      "this is a boy.this is another boy.this is final boy\n"
     ]
    }
   ],
   "source": [
    "print(new_text)\n",
    "print(text)"
   ]
  },
  {
   "cell_type": "code",
   "execution_count": null,
   "id": "ccd8bf9d",
   "metadata": {},
   "outputs": [],
   "source": []
  }
 ],
 "metadata": {
  "kernelspec": {
   "display_name": "Python 3 (ipykernel)",
   "language": "python",
   "name": "python3"
  },
  "language_info": {
   "codemirror_mode": {
    "name": "ipython",
    "version": 3
   },
   "file_extension": ".py",
   "mimetype": "text/x-python",
   "name": "python",
   "nbconvert_exporter": "python",
   "pygments_lexer": "ipython3",
   "version": "3.9.12"
  }
 },
 "nbformat": 4,
 "nbformat_minor": 5
}
