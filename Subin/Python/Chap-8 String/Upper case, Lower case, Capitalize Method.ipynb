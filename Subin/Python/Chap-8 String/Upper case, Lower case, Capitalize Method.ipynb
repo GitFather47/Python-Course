{
 "cells": [
  {
   "cell_type": "code",
   "execution_count": 1,
   "id": "a90d3044",
   "metadata": {},
   "outputs": [],
   "source": [
    "s1 = \"Belgium\""
   ]
  },
  {
   "cell_type": "code",
   "execution_count": 2,
   "id": "9029a309",
   "metadata": {},
   "outputs": [
    {
     "name": "stdout",
     "output_type": "stream",
     "text": [
      "BELGIUM\n"
     ]
    }
   ],
   "source": [
    "s_up = s1.upper()\n",
    "print(s_up)"
   ]
  },
  {
   "cell_type": "code",
   "execution_count": 3,
   "id": "cdcc2140",
   "metadata": {},
   "outputs": [
    {
     "name": "stdout",
     "output_type": "stream",
     "text": [
      "belgium\n"
     ]
    }
   ],
   "source": [
    "s_low = s1.lower()\n",
    "print(s_low)"
   ]
  },
  {
   "cell_type": "code",
   "execution_count": 4,
   "id": "9f77fc49",
   "metadata": {},
   "outputs": [
    {
     "name": "stdout",
     "output_type": "stream",
     "text": [
      "Damage\n"
     ]
    }
   ],
   "source": [
    "s2 = \"damage\"\n",
    "s_cap = s2.capitalize()\n",
    "print(s_cap)"
   ]
  }
 ],
 "metadata": {
  "kernelspec": {
   "display_name": "Python 3 (ipykernel)",
   "language": "python",
   "name": "python3"
  },
  "language_info": {
   "codemirror_mode": {
    "name": "ipython",
    "version": 3
   },
   "file_extension": ".py",
   "mimetype": "text/x-python",
   "name": "python",
   "nbconvert_exporter": "python",
   "pygments_lexer": "ipython3",
   "version": "3.9.12"
  }
 },
 "nbformat": 4,
 "nbformat_minor": 5
}
