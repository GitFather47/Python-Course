{
 "cells": [
  {
   "cell_type": "code",
   "execution_count": 1,
   "id": "ec277f69",
   "metadata": {},
   "outputs": [],
   "source": [
    "#stright lines\n",
    "import turtle\n",
    "import random \n",
    "for i in range(20):\n",
    "    x = random.randint(-200, 200)\n",
    "    y = random.randint(-200, 200)\n",
    "    turtle.setposition(x, y)\n",
    "    turtle.dot()\n",
    "    \n",
    "turtle.done()"
   ]
  },
  {
   "cell_type": "code",
   "execution_count": 3,
   "id": "e9381c6c",
   "metadata": {},
   "outputs": [],
   "source": [
    "#only dot\n",
    "import turtle\n",
    "import random\n",
    "\n",
    "turtle.penup()\n",
    "for i in range(20):\n",
    "    x = random.randint(-200, 200)\n",
    "    y = random.randint(-200, 200)\n",
    "    turtle.setposition(x, y)\n",
    "    turtle.dot()\n",
    "    \n",
    "turtle.done()"
   ]
  },
  {
   "cell_type": "code",
   "execution_count": null,
   "id": "90e6edaf",
   "metadata": {},
   "outputs": [],
   "source": []
  }
 ],
 "metadata": {
  "kernelspec": {
   "display_name": "Python 3 (ipykernel)",
   "language": "python",
   "name": "python3"
  },
  "language_info": {
   "codemirror_mode": {
    "name": "ipython",
    "version": 3
   },
   "file_extension": ".py",
   "mimetype": "text/x-python",
   "name": "python",
   "nbconvert_exporter": "python",
   "pygments_lexer": "ipython3",
   "version": "3.9.12"
  }
 },
 "nbformat": 4,
 "nbformat_minor": 5
}
