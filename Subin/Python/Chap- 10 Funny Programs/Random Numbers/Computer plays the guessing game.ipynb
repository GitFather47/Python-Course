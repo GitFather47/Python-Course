{
 "cells": [
  {
   "cell_type": "code",
   "execution_count": 5,
   "id": "92b847a4",
   "metadata": {},
   "outputs": [
    {
     "name": "stdout",
     "output_type": "stream",
     "text": [
      "Guess the number(between 1 and 1000): \n",
      "My guess is 500\n",
      "Nope!Try to guess a larger number \n",
      "Guess the number(between 1 and 1000): \n",
      "My guess is 750\n",
      "Nope!Try to guess a smaller number \n",
      "Guess the number(between 1 and 1000): \n",
      "My guess is 625\n",
      "Nope!Try to guess a smaller number \n",
      "Guess the number(between 1 and 1000): \n",
      "My guess is 562\n",
      "Nope!Try to guess a larger number \n",
      "Guess the number(between 1 and 1000): \n",
      "My guess is 593\n",
      "Nope!Try to guess a smaller number \n",
      "Guess the number(between 1 and 1000): \n",
      "My guess is 577\n",
      "Nope!Try to guess a larger number \n",
      "Guess the number(between 1 and 1000): \n",
      "My guess is 585\n",
      "Nope!Try to guess a larger number \n",
      "Guess the number(between 1 and 1000): \n",
      "My guess is 589\n",
      "Nope!Try to guess a smaller number \n",
      "Guess the number(between 1 and 1000): \n",
      "My guess is 587\n",
      "Right, your guess is correct\n",
      "You tried  9  times to find the right number\n"
     ]
    }
   ],
   "source": [
    "#code/program plays with itself\n",
    "import random\n",
    "number = random.randint(1, 1000)\n",
    "attempts = 0\n",
    "low = 1\n",
    "high = 1000\n",
    "while True:\n",
    "    print(\"Guess the number(between 1 and 1000): \")\n",
    "    input_number = (low + high) // 2\n",
    "    print(\"My guess is\", input_number)\n",
    "    attempts+=1\n",
    "    \n",
    "    if input_number == number:\n",
    "        print(\"Right, your guess is correct\")\n",
    "        break\n",
    "    if input_number > number:\n",
    "        print(\"Nope!Try to guess a smaller number \")\n",
    "        high = input_number - 1\n",
    "    else :\n",
    "        print(\"Nope!Try to guess a larger number \")\n",
    "        low = input_number + 1\n",
    "        \n",
    "print(\"You tried \", attempts, \" times to find the right number\")"
   ]
  },
  {
   "cell_type": "code",
   "execution_count": null,
   "id": "abd93beb",
   "metadata": {},
   "outputs": [],
   "source": []
  },
  {
   "cell_type": "code",
   "execution_count": null,
   "id": "8425b959",
   "metadata": {},
   "outputs": [],
   "source": []
  }
 ],
 "metadata": {
  "kernelspec": {
   "display_name": "Python 3 (ipykernel)",
   "language": "python",
   "name": "python3"
  },
  "language_info": {
   "codemirror_mode": {
    "name": "ipython",
    "version": 3
   },
   "file_extension": ".py",
   "mimetype": "text/x-python",
   "name": "python",
   "nbconvert_exporter": "python",
   "pygments_lexer": "ipython3",
   "version": "3.9.12"
  }
 },
 "nbformat": 4,
 "nbformat_minor": 5
}
