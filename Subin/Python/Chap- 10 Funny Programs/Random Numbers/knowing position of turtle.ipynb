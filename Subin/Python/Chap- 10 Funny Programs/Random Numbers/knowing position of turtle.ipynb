{
 "cells": [
  {
   "cell_type": "code",
   "execution_count": 1,
   "id": "844eb90b",
   "metadata": {},
   "outputs": [
    {
     "data": {
      "text/plain": [
       "(0.00,0.00)"
      ]
     },
     "execution_count": 1,
     "metadata": {},
     "output_type": "execute_result"
    }
   ],
   "source": [
    "#position()method to know the exact position of turtle\n",
    "import turtle \n",
    "turtle.position()"
   ]
  },
  {
   "cell_type": "code",
   "execution_count": 2,
   "id": "fabc75e6",
   "metadata": {},
   "outputs": [
    {
     "data": {
      "text/plain": [
       "(100.00,0.00)"
      ]
     },
     "execution_count": 2,
     "metadata": {},
     "output_type": "execute_result"
    }
   ],
   "source": [
    "turtle.forward(100)\n",
    "turtle.position()"
   ]
  },
  {
   "cell_type": "code",
   "execution_count": 3,
   "id": "2e53f363",
   "metadata": {},
   "outputs": [
    {
     "data": {
      "text/plain": [
       "(100.00,0.00)"
      ]
     },
     "execution_count": 3,
     "metadata": {},
     "output_type": "execute_result"
    }
   ],
   "source": [
    "turtle.left(90)\n",
    "turtle.position()"
   ]
  },
  {
   "cell_type": "code",
   "execution_count": 4,
   "id": "c2d1700a",
   "metadata": {},
   "outputs": [
    {
     "data": {
      "text/plain": [
       "(100.00,50.00)"
      ]
     },
     "execution_count": 4,
     "metadata": {},
     "output_type": "execute_result"
    }
   ],
   "source": [
    "turtle.forward(50)\n",
    "turtle.position()"
   ]
  },
  {
   "cell_type": "code",
   "execution_count": 5,
   "id": "6e58bffb",
   "metadata": {},
   "outputs": [
    {
     "data": {
      "text/plain": [
       "(100.00,-150.00)"
      ]
     },
     "execution_count": 5,
     "metadata": {},
     "output_type": "execute_result"
    }
   ],
   "source": [
    "turtle.backward(200)\n",
    "turtle.position()"
   ]
  }
 ],
 "metadata": {
  "kernelspec": {
   "display_name": "Python 3 (ipykernel)",
   "language": "python",
   "name": "python3"
  },
  "language_info": {
   "codemirror_mode": {
    "name": "ipython",
    "version": 3
   },
   "file_extension": ".py",
   "mimetype": "text/x-python",
   "name": "python",
   "nbconvert_exporter": "python",
   "pygments_lexer": "ipython3",
   "version": "3.9.12"
  }
 },
 "nbformat": 4,
 "nbformat_minor": 5
}
