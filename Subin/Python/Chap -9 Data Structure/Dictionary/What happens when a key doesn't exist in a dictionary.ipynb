{
 "cells": [
  {
   "cell_type": "code",
   "execution_count": 1,
   "id": "89d8f985",
   "metadata": {},
   "outputs": [],
   "source": [
    "dt = {\"a\": \"A\", \"b\": \"B\", \"c\": \"C\"}"
   ]
  },
  {
   "cell_type": "code",
   "execution_count": 2,
   "id": "da6656d1",
   "metadata": {},
   "outputs": [
    {
     "data": {
      "text/plain": [
       "'A'"
      ]
     },
     "execution_count": 2,
     "metadata": {},
     "output_type": "execute_result"
    }
   ],
   "source": [
    "dt[\"a\"]"
   ]
  },
  {
   "cell_type": "code",
   "execution_count": 3,
   "id": "f0dd9daa",
   "metadata": {},
   "outputs": [
    {
     "data": {
      "text/plain": [
       "'B'"
      ]
     },
     "execution_count": 3,
     "metadata": {},
     "output_type": "execute_result"
    }
   ],
   "source": [
    "dt[\"b\"]"
   ]
  },
  {
   "cell_type": "code",
   "execution_count": 4,
   "id": "2aea1853",
   "metadata": {},
   "outputs": [
    {
     "data": {
      "text/plain": [
       "'C'"
      ]
     },
     "execution_count": 4,
     "metadata": {},
     "output_type": "execute_result"
    }
   ],
   "source": [
    "dt[\"c\"]"
   ]
  },
  {
   "cell_type": "code",
   "execution_count": 5,
   "id": "4dc2e6a7",
   "metadata": {},
   "outputs": [
    {
     "ename": "KeyError",
     "evalue": "'d'",
     "output_type": "error",
     "traceback": [
      "\u001b[1;31m---------------------------------------------------------------------------\u001b[0m",
      "\u001b[1;31mKeyError\u001b[0m                                  Traceback (most recent call last)",
      "Input \u001b[1;32mIn [5]\u001b[0m, in \u001b[0;36m<cell line: 1>\u001b[1;34m()\u001b[0m\n\u001b[1;32m----> 1\u001b[0m \u001b[43mdt\u001b[49m\u001b[43m[\u001b[49m\u001b[38;5;124;43m\"\u001b[39;49m\u001b[38;5;124;43md\u001b[39;49m\u001b[38;5;124;43m\"\u001b[39;49m\u001b[43m]\u001b[49m\n",
      "\u001b[1;31mKeyError\u001b[0m: 'd'"
     ]
    }
   ],
   "source": [
    "dt[\"d\"]"
   ]
  },
  {
   "cell_type": "code",
   "execution_count": 6,
   "id": "3fa43e46",
   "metadata": {},
   "outputs": [],
   "source": [
    "dt[\"d\"] = \"D\""
   ]
  },
  {
   "cell_type": "code",
   "execution_count": 7,
   "id": "fac97e35",
   "metadata": {},
   "outputs": [
    {
     "data": {
      "text/plain": [
       "'D'"
      ]
     },
     "execution_count": 7,
     "metadata": {},
     "output_type": "execute_result"
    }
   ],
   "source": [
    "dt[\"d\"]"
   ]
  }
 ],
 "metadata": {
  "kernelspec": {
   "display_name": "Python 3 (ipykernel)",
   "language": "python",
   "name": "python3"
  },
  "language_info": {
   "codemirror_mode": {
    "name": "ipython",
    "version": 3
   },
   "file_extension": ".py",
   "mimetype": "text/x-python",
   "name": "python",
   "nbconvert_exporter": "python",
   "pygments_lexer": "ipython3",
   "version": "3.9.12"
  }
 },
 "nbformat": 4,
 "nbformat_minor": 5
}
