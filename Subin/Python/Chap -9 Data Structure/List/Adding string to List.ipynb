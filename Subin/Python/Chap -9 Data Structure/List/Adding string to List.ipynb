{
 "cells": [
  {
   "cell_type": "code",
   "execution_count": 1,
   "id": "fe4e3a6b",
   "metadata": {},
   "outputs": [
    {
     "name": "stdout",
     "output_type": "stream",
     "text": [
      "['Bangladesh', 'Bhutan', 'India', 'Maldives', 'Nepal', 'Pakistan', 'Sri-Lanka']\n"
     ]
    }
   ],
   "source": [
    "saarc=[\"Bangladesh\", \"Bhutan\", \"India\", \"Maldives\", \"Nepal\", \"Pakistan\", \"Sri-Lanka\"]\n",
    "print(saarc)"
   ]
  },
  {
   "cell_type": "code",
   "execution_count": 2,
   "id": "4fedf282",
   "metadata": {},
   "outputs": [
    {
     "name": "stdout",
     "output_type": "stream",
     "text": [
      "['Bangladesh', 'Bhutan', 'India', 'Maldives', 'Nepal', 'Pakistan', 'Sri-Lanka', 'Afghanistan']\n"
     ]
    }
   ],
   "source": [
    "saarc.append(\"Afghanistan\")\n",
    "print(saarc)"
   ]
  },
  {
   "cell_type": "code",
   "execution_count": null,
   "id": "77f25ea4",
   "metadata": {},
   "outputs": [],
   "source": []
  }
 ],
 "metadata": {
  "kernelspec": {
   "display_name": "Python 3 (ipykernel)",
   "language": "python",
   "name": "python3"
  },
  "language_info": {
   "codemirror_mode": {
    "name": "ipython",
    "version": 3
   },
   "file_extension": ".py",
   "mimetype": "text/x-python",
   "name": "python",
   "nbconvert_exporter": "python",
   "pygments_lexer": "ipython3",
   "version": "3.9.12"
  }
 },
 "nbformat": 4,
 "nbformat_minor": 5
}
