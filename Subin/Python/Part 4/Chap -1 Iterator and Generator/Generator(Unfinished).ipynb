{
 "cells": [
  {
   "cell_type": "code",
   "execution_count": 1,
   "id": "146a25b4",
   "metadata": {},
   "outputs": [
    {
     "name": "stdout",
     "output_type": "stream",
     "text": [
      "1\n",
      "2\n",
      "4\n"
     ]
    }
   ],
   "source": [
    "def foo():\n",
    "    x=1\n",
    "    yield x\n",
    "    x+=1\n",
    "    yield x\n",
    "    x+=2\n",
    "    yield x\n",
    "if __name__==\"__main__\":\n",
    "    for item in foo():\n",
    "        print(item)"
   ]
  },
  {
   "cell_type": "code",
   "execution_count": 2,
   "id": "29bab833",
   "metadata": {},
   "outputs": [
    {
     "name": "stdout",
     "output_type": "stream",
     "text": [
      "<generator object foo at 0x0000026212276F20> <class 'generator'>\n"
     ]
    }
   ],
   "source": [
    "print(foo(),type(foo()))"
   ]
  },
  {
   "cell_type": "code",
   "execution_count": 3,
   "id": "72696f9f",
   "metadata": {},
   "outputs": [
    {
     "name": "stdout",
     "output_type": "stream",
     "text": [
      "1\n",
      "2\n",
      "4\n"
     ]
    },
    {
     "ename": "StopIteration",
     "evalue": "",
     "output_type": "error",
     "traceback": [
      "\u001b[1;31m---------------------------------------------------------------------------\u001b[0m",
      "\u001b[1;31mStopIteration\u001b[0m                             Traceback (most recent call last)",
      "Input \u001b[1;32mIn [3]\u001b[0m, in \u001b[0;36m<cell line: 1>\u001b[1;34m()\u001b[0m\n\u001b[0;32m      4\u001b[0m \u001b[38;5;28mprint\u001b[39m(\u001b[38;5;28mnext\u001b[39m(y))\n\u001b[0;32m      5\u001b[0m \u001b[38;5;28mprint\u001b[39m(\u001b[38;5;28mnext\u001b[39m(y))\n\u001b[1;32m----> 6\u001b[0m \u001b[38;5;28mprint\u001b[39m(\u001b[38;5;28;43mnext\u001b[39;49m\u001b[43m(\u001b[49m\u001b[43my\u001b[49m\u001b[43m)\u001b[49m)\n",
      "\u001b[1;31mStopIteration\u001b[0m: "
     ]
    }
   ],
   "source": [
    "if __name__==\"__main__\":\n",
    "    y=foo()\n",
    "    print(next(y))\n",
    "    print(next(y))\n",
    "    print(next(y))\n",
    "    print(next(y))"
   ]
  },
  {
   "cell_type": "code",
   "execution_count": 4,
   "id": "12bc27a1",
   "metadata": {},
   "outputs": [
    {
     "name": "stdout",
     "output_type": "stream",
     "text": [
      "0\n",
      "1\n",
      "2\n",
      "3\n",
      "4\n"
     ]
    }
   ],
   "source": [
    "def myRange(n):\n",
    "    x=0\n",
    "    while x<n:\n",
    "        yield x\n",
    "        x+=1\n",
    "if __name__==\"__main__\":\n",
    "    for item in myRange(5):\n",
    "        print(item)"
   ]
  },
  {
   "cell_type": "code",
   "execution_count": 5,
   "id": "1dd0b09f",
   "metadata": {},
   "outputs": [],
   "source": [
    "def is_prime(n):\n",
    "    if n<=1:\n",
    "        return False\n",
    "    if n==2:\n",
    "        return True\n",
    "    if n%2==0:\n",
    "        return False\n",
    "    root = int(n*0.5) #math.sqrt(n)\n",
    "    for i in range(3, root+1, 2):\n",
    "        if n%i == 0:\n",
    "            return False\n",
    "    return True\n",
    "        "
   ]
  },
  {
   "cell_type": "code",
   "execution_count": 6,
   "id": "1586b719",
   "metadata": {},
   "outputs": [
    {
     "data": {
      "text/plain": [
       "True"
      ]
     },
     "execution_count": 6,
     "metadata": {},
     "output_type": "execute_result"
    }
   ],
   "source": [
    "is_prime(5)"
   ]
  },
  {
   "cell_type": "code",
   "execution_count": null,
   "id": "d32089f3",
   "metadata": {},
   "outputs": [],
   "source": [
    "def gen_prime(n,m):\n",
    "    primes = []\n",
    "    \n",
    "    i=0\n",
    "    while i<m:\n",
    "        if is_prime(n):\n",
    "            primes.append(n)\n",
    "            i+=1\n",
    "        n+=1\n",
    "    return primes"
   ]
  },
  {
   "cell_type": "code",
   "execution_count": null,
   "id": "4bb46b87",
   "metadata": {},
   "outputs": [],
   "source": [
    "\"\"\"\n",
    "if __name__==\"__main__\":\n",
    "    primes=gen_prime(2,10)\n",
    "    sum_primes=sum(primes)\n",
    "    print(\"Sum: \",sum_primes)\n",
    "    NOT WORKING!!!\n",
    "\"\"\"\n"
   ]
  },
  {
   "cell_type": "code",
   "execution_count": 3,
   "id": "6d255926",
   "metadata": {},
   "outputs": [],
   "source": [
    "def generate_prime(n,m):\n",
    "    while True:\n",
    "        if is_prime(n):\n",
    "            yield n\n",
    "            m-=1\n",
    "            if m==0:\n",
    "                return \n",
    "        n+=1\n"
   ]
  },
  {
   "cell_type": "code",
   "execution_count": 8,
   "id": "dba0e731",
   "metadata": {},
   "outputs": [
    {
     "name": "stdout",
     "output_type": "stream",
     "text": [
      "Sum:  129\n"
     ]
    }
   ],
   "source": [
    "if __name__==\"__main__\":\n",
    "    n,m=2,10\n",
    "    primes=generate_prime(n,m)\n",
    "    sum_primes=sum(primes)\n",
    "    print(\"Sum: \",sum_primes)"
   ]
  },
  {
   "cell_type": "code",
   "execution_count": null,
   "id": "debf14d9",
   "metadata": {},
   "outputs": [],
   "source": []
  }
 ],
 "metadata": {
  "kernelspec": {
   "display_name": "Python 3 (ipykernel)",
   "language": "python",
   "name": "python3"
  },
  "language_info": {
   "codemirror_mode": {
    "name": "ipython",
    "version": 3
   },
   "file_extension": ".py",
   "mimetype": "text/x-python",
   "name": "python",
   "nbconvert_exporter": "python",
   "pygments_lexer": "ipython3",
   "version": "3.9.12"
  }
 },
 "nbformat": 4,
 "nbformat_minor": 5
}
