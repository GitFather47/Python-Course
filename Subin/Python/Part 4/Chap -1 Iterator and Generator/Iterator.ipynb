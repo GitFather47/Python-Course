{
 "cells": [
  {
   "cell_type": "code",
   "execution_count": 2,
   "id": "a1d7f26a",
   "metadata": {},
   "outputs": [
    {
     "data": {
      "text/plain": [
       "<str_iterator at 0x22d89dc1550>"
      ]
     },
     "execution_count": 2,
     "metadata": {},
     "output_type": "execute_result"
    }
   ],
   "source": [
    "city=\"Tokyo\"\n",
    "c_iter=iter(city)\n",
    "c_iter"
   ]
  },
  {
   "cell_type": "code",
   "execution_count": 3,
   "id": "0d66b4a8",
   "metadata": {},
   "outputs": [
    {
     "data": {
      "text/plain": [
       "str_iterator"
      ]
     },
     "execution_count": 3,
     "metadata": {},
     "output_type": "execute_result"
    }
   ],
   "source": [
    "type(c_iter)"
   ]
  },
  {
   "cell_type": "code",
   "execution_count": 4,
   "id": "a3cb65af",
   "metadata": {},
   "outputs": [
    {
     "data": {
      "text/plain": [
       "'T'"
      ]
     },
     "execution_count": 4,
     "metadata": {},
     "output_type": "execute_result"
    }
   ],
   "source": [
    "next(c_iter)"
   ]
  },
  {
   "cell_type": "code",
   "execution_count": 5,
   "id": "c6b077df",
   "metadata": {},
   "outputs": [
    {
     "data": {
      "text/plain": [
       "'o'"
      ]
     },
     "execution_count": 5,
     "metadata": {},
     "output_type": "execute_result"
    }
   ],
   "source": [
    "next(c_iter)"
   ]
  },
  {
   "cell_type": "code",
   "execution_count": 6,
   "id": "2325c20f",
   "metadata": {},
   "outputs": [
    {
     "data": {
      "text/plain": [
       "'k'"
      ]
     },
     "execution_count": 6,
     "metadata": {},
     "output_type": "execute_result"
    }
   ],
   "source": [
    "next(c_iter)"
   ]
  },
  {
   "cell_type": "code",
   "execution_count": 7,
   "id": "acac4172",
   "metadata": {},
   "outputs": [
    {
     "data": {
      "text/plain": [
       "'y'"
      ]
     },
     "execution_count": 7,
     "metadata": {},
     "output_type": "execute_result"
    }
   ],
   "source": [
    "next(c_iter)"
   ]
  },
  {
   "cell_type": "code",
   "execution_count": 8,
   "id": "46b99bbb",
   "metadata": {},
   "outputs": [
    {
     "data": {
      "text/plain": [
       "'o'"
      ]
     },
     "execution_count": 8,
     "metadata": {},
     "output_type": "execute_result"
    }
   ],
   "source": [
    "next(c_iter)"
   ]
  },
  {
   "cell_type": "code",
   "execution_count": 9,
   "id": "4a58f0e4",
   "metadata": {},
   "outputs": [
    {
     "ename": "StopIteration",
     "evalue": "",
     "output_type": "error",
     "traceback": [
      "\u001b[1;31m---------------------------------------------------------------------------\u001b[0m",
      "\u001b[1;31mStopIteration\u001b[0m                             Traceback (most recent call last)",
      "Input \u001b[1;32mIn [9]\u001b[0m, in \u001b[0;36m<cell line: 1>\u001b[1;34m()\u001b[0m\n\u001b[1;32m----> 1\u001b[0m \u001b[38;5;28;43mnext\u001b[39;49m\u001b[43m(\u001b[49m\u001b[43mc_iter\u001b[49m\u001b[43m)\u001b[49m\n",
      "\u001b[1;31mStopIteration\u001b[0m: "
     ]
    }
   ],
   "source": [
    "next(c_iter)"
   ]
  },
  {
   "cell_type": "code",
   "execution_count": 11,
   "id": "45c9835d",
   "metadata": {},
   "outputs": [
    {
     "name": "stdout",
     "output_type": "stream",
     "text": [
      "0\n",
      "1\n",
      "2\n",
      "3\n",
      "4\n"
     ]
    }
   ],
   "source": [
    "class  myRange:\n",
    "    def __init__(self,n):\n",
    "        self.index=0\n",
    "        self.max_index=n-1\n",
    "    def __iter__(self):\n",
    "        return self\n",
    "    def __next__(self):\n",
    "        if self.index<=self.max_index:\n",
    "            self.index+=1\n",
    "            return self.index -1\n",
    "        else:\n",
    "            raise StopIteration()\n",
    "if __name__==\"__main__\":\n",
    "    for i in myRange(5):\n",
    "        print(i)"
   ]
  },
  {
   "cell_type": "code",
   "execution_count": 18,
   "id": "009572b9",
   "metadata": {},
   "outputs": [
    {
     "data": {
      "text/plain": [
       "(list_iterator, <list_iterator at 0x22d88cf25e0>)"
      ]
     },
     "execution_count": 18,
     "metadata": {},
     "output_type": "execute_result"
    }
   ],
   "source": [
    "li = [1,2,3]\n",
    "it=iter(li)\n",
    "type(it),it"
   ]
  },
  {
   "cell_type": "code",
   "execution_count": 19,
   "id": "9ca19ce0",
   "metadata": {},
   "outputs": [
    {
     "data": {
      "text/plain": [
       "(tuple_iterator, <tuple_iterator at 0x22d89dc1df0>)"
      ]
     },
     "execution_count": 19,
     "metadata": {},
     "output_type": "execute_result"
    }
   ],
   "source": [
    "tpl = (1,2,3)\n",
    "it=iter(tpl)\n",
    "type(it),it"
   ]
  },
  {
   "cell_type": "code",
   "execution_count": 20,
   "id": "971874af",
   "metadata": {},
   "outputs": [
    {
     "data": {
      "text/plain": [
       "(set_iterator, <set_iterator at 0x22d8a80c9c0>)"
      ]
     },
     "execution_count": 20,
     "metadata": {},
     "output_type": "execute_result"
    }
   ],
   "source": [
    "st = {1,2,3}\n",
    "it=iter(st)\n",
    "type(it),it"
   ]
  },
  {
   "cell_type": "code",
   "execution_count": 21,
   "id": "3deeedf9",
   "metadata": {},
   "outputs": [
    {
     "data": {
      "text/plain": [
       "(dict_keyiterator, <dict_keyiterator at 0x22d8a031ae0>)"
      ]
     },
     "execution_count": 21,
     "metadata": {},
     "output_type": "execute_result"
    }
   ],
   "source": [
    "dt = {'a': 'A','b': 'B','c': 'C'}\n",
    "it=iter(dt)\n",
    "type(it),it"
   ]
  },
  {
   "cell_type": "code",
   "execution_count": null,
   "id": "0ab52177",
   "metadata": {},
   "outputs": [],
   "source": []
  }
 ],
 "metadata": {
  "kernelspec": {
   "display_name": "Python 3 (ipykernel)",
   "language": "python",
   "name": "python3"
  },
  "language_info": {
   "codemirror_mode": {
    "name": "ipython",
    "version": 3
   },
   "file_extension": ".py",
   "mimetype": "text/x-python",
   "name": "python",
   "nbconvert_exporter": "python",
   "pygments_lexer": "ipython3",
   "version": "3.9.12"
  }
 },
 "nbformat": 4,
 "nbformat_minor": 5
}
