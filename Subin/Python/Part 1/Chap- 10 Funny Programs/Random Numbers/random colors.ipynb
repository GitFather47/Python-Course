{
 "cells": [
  {
   "cell_type": "code",
   "execution_count": 1,
   "id": "f025b97b",
   "metadata": {},
   "outputs": [],
   "source": [
    "import turtle\n",
    "import random"
   ]
  },
  {
   "cell_type": "code",
   "execution_count": 2,
   "id": "4adfc6b5",
   "metadata": {},
   "outputs": [],
   "source": [
    "# list of colors\n",
    "colors = [\"Blue\", \"Green\", \"Yellow\", \"Orange\", \"Red\", \"white\", \"Violet\", \"Brown\", \"Aqua\", \"Black\", \"Cyan\", \"Purple\"]\n",
    "turtle.penup()\n",
    "\n",
    "for i in range(50):\n",
    " x = random.randint(-100, 100)\n",
    " y = random.randint(-100, 100)\n",
    " #setting random position\n",
    " turtle.setposition(x, y)\n",
    " #setting random color\n",
    " z = random.randint(0, len(colors)-1)\n",
    " turtle.dot(colors[z])\n",
    "    \n",
    "turtle.done()"
   ]
  }
 ],
 "metadata": {
  "kernelspec": {
   "display_name": "Python 3 (ipykernel)",
   "language": "python",
   "name": "python3"
  },
  "language_info": {
   "codemirror_mode": {
    "name": "ipython",
    "version": 3
   },
   "file_extension": ".py",
   "mimetype": "text/x-python",
   "name": "python",
   "nbconvert_exporter": "python",
   "pygments_lexer": "ipython3",
   "version": "3.9.12"
  }
 },
 "nbformat": 4,
 "nbformat_minor": 5
}
