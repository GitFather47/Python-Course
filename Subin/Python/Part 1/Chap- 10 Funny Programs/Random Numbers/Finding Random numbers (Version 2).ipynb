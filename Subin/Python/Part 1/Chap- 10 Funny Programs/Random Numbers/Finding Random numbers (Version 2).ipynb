{
 "cells": [
  {
   "cell_type": "code",
   "execution_count": 1,
   "id": "01896111",
   "metadata": {},
   "outputs": [
    {
     "name": "stdout",
     "output_type": "stream",
     "text": [
      "Guess the number (between 1 and 1000):45\n",
      "Wrong!  guess a larger number\n",
      "Guess the number (between 1 and 1000):899\n",
      "Wrong!  guess a smaller number\n",
      "Guess the number (between 1 and 1000):56\n",
      "Wrong!  guess a larger number\n",
      "Guess the number (between 1 and 1000):44\n",
      "Wrong!  guess a larger number\n",
      "Guess the number (between 1 and 1000):444\n",
      "Wrong!  guess a smaller number\n",
      "Guess the number (between 1 and 1000):300\n",
      "Wrong!  guess a smaller number\n",
      "Guess the number (between 1 and 1000):250\n",
      "Wrong!  guess a smaller number\n",
      "Guess the number (between 1 and 1000):111\n",
      "Wrong!  guess a larger number\n",
      "Guess the number (between 1 and 1000):150\n",
      "Wrong!  guess a larger number\n",
      "Guess the number (between 1 and 1000):243\n",
      "Wrong!  guess a smaller number\n",
      "Guess the number (between 1 and 1000):230\n",
      "Wrong!  guess a smaller number\n",
      "Guess the number (between 1 and 1000):200\n",
      "Wrong!  guess a larger number\n",
      "Guess the number (between 1 and 1000):215\n",
      "Wrong!  guess a smaller number\n",
      "Guess the number (between 1 and 1000):210\n",
      "Yes, your guess is correct!\n",
      "You tried 14 times to find the correct number. \n"
     ]
    }
   ],
   "source": [
    "import random\n",
    "\n",
    "num = random.randint(1, 1000)\n",
    "attempts = 0\n",
    "# while goes for infinite times\n",
    "while True:\n",
    "    n = input(\"Guess the number (between 1 and 1000):\")\n",
    "    attempts+=1\n",
    "    if int(n) == num:\n",
    "        print(\"Yes, your guess is correct!\")\n",
    "        break\n",
    "    if int(n) > num:\n",
    "        print(\"Wrong!  guess a smaller number\")\n",
    "    else:\n",
    "        print(\"Wrong!  guess a larger number\")\n",
    "        \n",
    "print(\"You tried\", attempts, \"times to find the correct number. \")"
   ]
  }
 ],
 "metadata": {
  "kernelspec": {
   "display_name": "Python 3 (ipykernel)",
   "language": "python",
   "name": "python3"
  },
  "language_info": {
   "codemirror_mode": {
    "name": "ipython",
    "version": 3
   },
   "file_extension": ".py",
   "mimetype": "text/x-python",
   "name": "python",
   "nbconvert_exporter": "python",
   "pygments_lexer": "ipython3",
   "version": "3.9.12"
  }
 },
 "nbformat": 4,
 "nbformat_minor": 5
}
