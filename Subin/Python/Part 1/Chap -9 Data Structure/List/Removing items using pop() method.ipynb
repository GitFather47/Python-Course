{
 "cells": [
  {
   "cell_type": "code",
   "execution_count": 1,
   "id": "248aaee9",
   "metadata": {},
   "outputs": [
    {
     "data": {
      "text/plain": [
       "'OG Loc'"
      ]
     },
     "execution_count": 1,
     "metadata": {},
     "output_type": "execute_result"
    }
   ],
   "source": [
    "GSF = ['CJ', 'Sweet', 'Smoke', 'Ryder', 'OG Loc']\n",
    "man = GSF.pop()\n",
    "man"
   ]
  },
  {
   "cell_type": "code",
   "execution_count": 2,
   "id": "b46e6faf",
   "metadata": {},
   "outputs": [
    {
     "data": {
      "text/plain": [
       "['CJ', 'Sweet', 'Smoke', 'Ryder']"
      ]
     },
     "execution_count": 2,
     "metadata": {},
     "output_type": "execute_result"
    }
   ],
   "source": [
    "GSF"
   ]
  },
  {
   "cell_type": "code",
   "execution_count": 3,
   "id": "5cc81427",
   "metadata": {},
   "outputs": [
    {
     "data": {
      "text/plain": [
       "'Smoke'"
      ]
     },
     "execution_count": 3,
     "metadata": {},
     "output_type": "execute_result"
    }
   ],
   "source": [
    "GSF = ['CJ', 'Sweet', 'Smoke', 'Ryder']\n",
    "man = GSF.pop(2)\n",
    "man"
   ]
  },
  {
   "cell_type": "code",
   "execution_count": 4,
   "id": "6f20fce3",
   "metadata": {},
   "outputs": [
    {
     "data": {
      "text/plain": [
       "['CJ', 'Sweet', 'Ryder']"
      ]
     },
     "execution_count": 4,
     "metadata": {},
     "output_type": "execute_result"
    }
   ],
   "source": [
    "GSF"
   ]
  }
 ],
 "metadata": {
  "kernelspec": {
   "display_name": "Python 3 (ipykernel)",
   "language": "python",
   "name": "python3"
  },
  "language_info": {
   "codemirror_mode": {
    "name": "ipython",
    "version": 3
   },
   "file_extension": ".py",
   "mimetype": "text/x-python",
   "name": "python",
   "nbconvert_exporter": "python",
   "pygments_lexer": "ipython3",
   "version": "3.9.12"
  }
 },
 "nbformat": 4,
 "nbformat_minor": 5
}
