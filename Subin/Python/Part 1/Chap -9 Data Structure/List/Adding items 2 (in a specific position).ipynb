{
 "cells": [
  {
   "cell_type": "code",
   "execution_count": 1,
   "id": "25fb6f74",
   "metadata": {},
   "outputs": [],
   "source": [
    "GSF = [\"Sweet\", \"Smoke\", \"Ryder\"]"
   ]
  },
  {
   "cell_type": "code",
   "execution_count": 2,
   "id": "cff1883e",
   "metadata": {},
   "outputs": [
    {
     "data": {
      "text/plain": [
       "['CJ', 'Sweet', 'Smoke', 'Ryder']"
      ]
     },
     "execution_count": 2,
     "metadata": {},
     "output_type": "execute_result"
    }
   ],
   "source": [
    "GSF.insert(0, \"CJ\")\n",
    "GSF"
   ]
  },
  {
   "cell_type": "code",
   "execution_count": 3,
   "id": "ca038ce7",
   "metadata": {},
   "outputs": [
    {
     "data": {
      "text/plain": [
       "['CJ', 'Sweet', 'Smoke', 'Ryder', 'OG Loc']"
      ]
     },
     "execution_count": 3,
     "metadata": {},
     "output_type": "execute_result"
    }
   ],
   "source": [
    "GSF.insert(4, \"OG Loc\")\n",
    "GSF"
   ]
  }
 ],
 "metadata": {
  "kernelspec": {
   "display_name": "Python 3 (ipykernel)",
   "language": "python",
   "name": "python3"
  },
  "language_info": {
   "codemirror_mode": {
    "name": "ipython",
    "version": 3
   },
   "file_extension": ".py",
   "mimetype": "text/x-python",
   "name": "python",
   "nbconvert_exporter": "python",
   "pygments_lexer": "ipython3",
   "version": "3.9.12"
  }
 },
 "nbformat": 4,
 "nbformat_minor": 5
}
