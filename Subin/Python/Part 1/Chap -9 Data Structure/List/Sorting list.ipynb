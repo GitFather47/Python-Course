{
 "cells": [
  {
   "cell_type": "code",
   "execution_count": 1,
   "id": "8e2c1796",
   "metadata": {},
   "outputs": [],
   "source": [
    "saarc=[\"Afghanistan\",\"Bangladesh\", \"Bhutan\", \"India\", \"Maldives\", \"Nepal\", \"Pakistan\", \"Sri-Lanka\"]"
   ]
  },
  {
   "cell_type": "code",
   "execution_count": 2,
   "id": "de3f1377",
   "metadata": {},
   "outputs": [
    {
     "name": "stdout",
     "output_type": "stream",
     "text": [
      "['Afghanistan', 'Bangladesh', 'Bhutan', 'India', 'Maldives', 'Nepal', 'Pakistan', 'Sri-Lanka']\n"
     ]
    }
   ],
   "source": [
    "saarc.sort()\n",
    "print(saarc)"
   ]
  },
  {
   "cell_type": "code",
   "execution_count": 3,
   "id": "9b4e4226",
   "metadata": {},
   "outputs": [],
   "source": [
    "li = [1, 3, 7, 2, 4, 6, 1]"
   ]
  },
  {
   "cell_type": "code",
   "execution_count": 4,
   "id": "8d8dd58e",
   "metadata": {},
   "outputs": [
    {
     "name": "stdout",
     "output_type": "stream",
     "text": [
      "[1, 1, 2, 3, 4, 6, 7]\n"
     ]
    }
   ],
   "source": [
    "li.sort()\n",
    "print(li)"
   ]
  },
  {
   "cell_type": "code",
   "execution_count": null,
   "id": "7ccd2ad7",
   "metadata": {},
   "outputs": [],
   "source": []
  }
 ],
 "metadata": {
  "kernelspec": {
   "display_name": "Python 3 (ipykernel)",
   "language": "python",
   "name": "python3"
  },
  "language_info": {
   "codemirror_mode": {
    "name": "ipython",
    "version": 3
   },
   "file_extension": ".py",
   "mimetype": "text/x-python",
   "name": "python",
   "nbconvert_exporter": "python",
   "pygments_lexer": "ipython3",
   "version": "3.9.12"
  }
 },
 "nbformat": 4,
 "nbformat_minor": 5
}
