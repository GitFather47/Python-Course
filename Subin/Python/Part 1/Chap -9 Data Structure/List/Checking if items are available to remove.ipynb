{
 "cells": [
  {
   "cell_type": "code",
   "execution_count": 1,
   "id": "591f5912",
   "metadata": {},
   "outputs": [],
   "source": [
    "GSF = ['CJ', 'Sweet', 'Smoke', 'Ryder', 'OG Loc']\n",
    "man = \"Madd Dog\""
   ]
  },
  {
   "cell_type": "code",
   "execution_count": 2,
   "id": "6356f012",
   "metadata": {},
   "outputs": [
    {
     "name": "stdout",
     "output_type": "stream",
     "text": [
      "Madd Dog not in the family\n"
     ]
    }
   ],
   "source": [
    "if man in GSF:\n",
    "    remove(man)\n",
    "else:\n",
    "    print(man, \"not in the family\")"
   ]
  },
  {
   "cell_type": "code",
   "execution_count": null,
   "id": "38fb4d79",
   "metadata": {},
   "outputs": [],
   "source": []
  }
 ],
 "metadata": {
  "kernelspec": {
   "display_name": "Python 3 (ipykernel)",
   "language": "python",
   "name": "python3"
  },
  "language_info": {
   "codemirror_mode": {
    "name": "ipython",
    "version": 3
   },
   "file_extension": ".py",
   "mimetype": "text/x-python",
   "name": "python",
   "nbconvert_exporter": "python",
   "pygments_lexer": "ipython3",
   "version": "3.9.12"
  }
 },
 "nbformat": 4,
 "nbformat_minor": 5
}
