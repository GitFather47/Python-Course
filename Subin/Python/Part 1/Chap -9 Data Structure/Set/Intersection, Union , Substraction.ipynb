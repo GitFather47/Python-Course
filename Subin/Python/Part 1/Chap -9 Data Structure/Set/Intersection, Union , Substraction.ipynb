{
 "cells": [
  {
   "cell_type": "code",
   "execution_count": 1,
   "id": "a07de567",
   "metadata": {},
   "outputs": [],
   "source": [
    "A = {1, 2, 3, 4, 5}\n",
    "B = {2, 4, 6, 8}"
   ]
  },
  {
   "cell_type": "code",
   "execution_count": 2,
   "id": "bd735c32",
   "metadata": {},
   "outputs": [
    {
     "data": {
      "text/plain": [
       "{2, 4}"
      ]
     },
     "execution_count": 2,
     "metadata": {},
     "output_type": "execute_result"
    }
   ],
   "source": [
    "#Intersection\n",
    "C = A & B\n",
    "C"
   ]
  },
  {
   "cell_type": "code",
   "execution_count": 3,
   "id": "b79cfdbe",
   "metadata": {},
   "outputs": [
    {
     "data": {
      "text/plain": [
       "{1, 2, 3, 4, 5, 6, 8}"
      ]
     },
     "execution_count": 3,
     "metadata": {},
     "output_type": "execute_result"
    }
   ],
   "source": [
    "#Union\n",
    "C = A | B\n",
    "C"
   ]
  },
  {
   "cell_type": "code",
   "execution_count": 4,
   "id": "b9cd91a2",
   "metadata": {},
   "outputs": [
    {
     "data": {
      "text/plain": [
       "{1, 3, 5, 6, 8}"
      ]
     },
     "execution_count": 4,
     "metadata": {},
     "output_type": "execute_result"
    }
   ],
   "source": [
    "#A set without common elements\n",
    "C = A ^ B\n",
    "C"
   ]
  },
  {
   "cell_type": "code",
   "execution_count": 5,
   "id": "046741f9",
   "metadata": {},
   "outputs": [
    {
     "data": {
      "text/plain": [
       "{1, 3, 5}"
      ]
     },
     "execution_count": 5,
     "metadata": {},
     "output_type": "execute_result"
    }
   ],
   "source": [
    "#Substracting Elements\n",
    "C = A - B\n",
    "C"
   ]
  },
  {
   "cell_type": "code",
   "execution_count": 6,
   "id": "85496b5d",
   "metadata": {},
   "outputs": [
    {
     "data": {
      "text/plain": [
       "{6, 8}"
      ]
     },
     "execution_count": 6,
     "metadata": {},
     "output_type": "execute_result"
    }
   ],
   "source": [
    "C = B - A\n",
    "C"
   ]
  }
 ],
 "metadata": {
  "kernelspec": {
   "display_name": "Python 3 (ipykernel)",
   "language": "python",
   "name": "python3"
  },
  "language_info": {
   "codemirror_mode": {
    "name": "ipython",
    "version": 3
   },
   "file_extension": ".py",
   "mimetype": "text/x-python",
   "name": "python",
   "nbconvert_exporter": "python",
   "pygments_lexer": "ipython3",
   "version": "3.9.12"
  }
 },
 "nbformat": 4,
 "nbformat_minor": 5
}
