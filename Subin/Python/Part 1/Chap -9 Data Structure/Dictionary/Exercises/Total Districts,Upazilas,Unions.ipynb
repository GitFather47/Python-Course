{
 "cells": [
  {
   "cell_type": "code",
   "execution_count": 1,
   "id": "da5b58e1",
   "metadata": {},
   "outputs": [],
   "source": [
    "division_info={}"
   ]
  },
  {
   "cell_type": "code",
   "execution_count": 2,
   "id": "a1ed4c4b",
   "metadata": {},
   "outputs": [],
   "source": [
    "division_info[\"Dhaka\"]={\"district\": 13, \"upazila\": 93, \"union\": 1833}\n",
    "division_info[\"Rajshahi\"]={\"district\": 8, \"upazila\": 70, \"union\": 558}\n",
    "division_info[\"Chittagong\"]={\"district\": 11, \"upazila\": 97, \"union\": 336}\n",
    "division_info[\"Khulna\"]={\"district\": 10, \"upazila\": 59, \"union\": 270}\n",
    "division_info[\"Sylhet\"]={\"district\": 4, \"upazila\": 38, \"union\": 334}\n",
    "division_info[\"Barishal\"]={\"district\": 6, \"upazila\": 39, \"union\": 333}\n",
    "division_info[\"Rangpur\"]={\"district\": 8, \"upazila\": 58, \"union\": 536}\n",
    "division_info[\"Mymensingh\"]={\"district\": 4, \"upazila\": 34, \"union\": 350}"
   ]
  },
  {
   "cell_type": "code",
   "execution_count": 3,
   "id": "73ff38cd",
   "metadata": {},
   "outputs": [
    {
     "name": "stdout",
     "output_type": "stream",
     "text": [
      "{'Dhaka': {'district': 13, 'upazila': 93, 'union': 1833}, 'Rajshahi': {'district': 8, 'upazila': 70, 'union': 558}, 'Chittagong': {'district': 11, 'upazila': 97, 'union': 336}, 'Khulna': {'district': 10, 'upazila': 59, 'union': 270}, 'Sylhet': {'district': 4, 'upazila': 38, 'union': 334}, 'Barishal': {'district': 6, 'upazila': 39, 'union': 333}, 'Rangpur': {'district': 8, 'upazila': 58, 'union': 536}, 'Mymensingh': {'district': 4, 'upazila': 34, 'union': 350}}\n"
     ]
    }
   ],
   "source": [
    "print(division_info)"
   ]
  },
  {
   "cell_type": "code",
   "execution_count": 4,
   "id": "76bbf391",
   "metadata": {},
   "outputs": [
    {
     "name": "stdout",
     "output_type": "stream",
     "text": [
      "dict_keys(['Dhaka', 'Rajshahi', 'Chittagong', 'Khulna', 'Sylhet', 'Barishal', 'Rangpur', 'Mymensingh'])\n"
     ]
    }
   ],
   "source": [
    "#printing only divisions using method keys()\n",
    "divisions = division_info.keys()\n",
    "print(divisions)"
   ]
  },
  {
   "cell_type": "code",
   "execution_count": 5,
   "id": "199052d9",
   "metadata": {},
   "outputs": [
    {
     "name": "stdout",
     "output_type": "stream",
     "text": [
      "Division Dhaka\n",
      "Division Rajshahi\n",
      "Division Chittagong\n",
      "Division Khulna\n",
      "Division Sylhet\n",
      "Division Barishal\n",
      "Division Rangpur\n",
      "Division Mymensingh\n"
     ]
    }
   ],
   "source": [
    "# using for loop on keys\n",
    "for division in divisions:\n",
    "    print(\"Division\", division)"
   ]
  },
  {
   "cell_type": "code",
   "execution_count": 6,
   "id": "8abf38b3",
   "metadata": {},
   "outputs": [
    {
     "name": "stdout",
     "output_type": "stream",
     "text": [
      "Dhaka upazila 93\n",
      "Rajshahi upazila 70\n",
      "Chittagong upazila 97\n",
      "Khulna upazila 59\n",
      "Sylhet upazila 38\n",
      "Barishal upazila 39\n",
      "Rangpur upazila 58\n",
      "Mymensingh upazila 34\n"
     ]
    }
   ],
   "source": [
    "# using for loop on upazila\n",
    "for division in divisions:\n",
    "    print(division, \"upazila\", division_info[division][\"upazila\"])"
   ]
  },
  {
   "cell_type": "code",
   "execution_count": 7,
   "id": "a85ff9e5",
   "metadata": {},
   "outputs": [
    {
     "name": "stdout",
     "output_type": "stream",
     "text": [
      "Dhaka\n",
      "Rajshahi\n",
      "Chittagong\n",
      "Khulna\n",
      "Sylhet\n",
      "Barishal\n",
      "Rangpur\n",
      "Mymensingh\n"
     ]
    }
   ],
   "source": [
    "# using for loop on keys 2\n",
    "for item in division_info:\n",
    "    print(item)"
   ]
  },
  {
   "cell_type": "code",
   "execution_count": 8,
   "id": "234131f8",
   "metadata": {},
   "outputs": [
    {
     "name": "stdout",
     "output_type": "stream",
     "text": [
      "Dhaka\n",
      "{'district': 13, 'upazila': 93, 'union': 1833}\n",
      "Rajshahi\n",
      "{'district': 8, 'upazila': 70, 'union': 558}\n",
      "Chittagong\n",
      "{'district': 11, 'upazila': 97, 'union': 336}\n",
      "Khulna\n",
      "{'district': 10, 'upazila': 59, 'union': 270}\n",
      "Sylhet\n",
      "{'district': 4, 'upazila': 38, 'union': 334}\n",
      "Barishal\n",
      "{'district': 6, 'upazila': 39, 'union': 333}\n",
      "Rangpur\n",
      "{'district': 8, 'upazila': 58, 'union': 536}\n",
      "Mymensingh\n",
      "{'district': 4, 'upazila': 34, 'union': 350}\n"
     ]
    }
   ],
   "source": [
    "# how to get both key and it's value\n",
    "#1st method\n",
    "# problem 1\n",
    "for key in division_info:\n",
    "    print(key)\n",
    "    print(division_info[key])"
   ]
  },
  {
   "cell_type": "code",
   "execution_count": 9,
   "id": "54a23d94",
   "metadata": {},
   "outputs": [
    {
     "name": "stdout",
     "output_type": "stream",
     "text": [
      "Dhaka\n",
      "{'district': 13, 'upazila': 93, 'union': 1833}\n",
      "Rajshahi\n",
      "{'district': 8, 'upazila': 70, 'union': 558}\n",
      "Chittagong\n",
      "{'district': 11, 'upazila': 97, 'union': 336}\n",
      "Khulna\n",
      "{'district': 10, 'upazila': 59, 'union': 270}\n",
      "Sylhet\n",
      "{'district': 4, 'upazila': 38, 'union': 334}\n",
      "Barishal\n",
      "{'district': 6, 'upazila': 39, 'union': 333}\n",
      "Rangpur\n",
      "{'district': 8, 'upazila': 58, 'union': 536}\n",
      "Mymensingh\n",
      "{'district': 4, 'upazila': 34, 'union': 350}\n"
     ]
    }
   ],
   "source": [
    "#2nd method\n",
    "#problem 2\n",
    "for key, value in division_info.items():\n",
    "    print(key)\n",
    "    print(value)"
   ]
  },
  {
   "cell_type": "code",
   "execution_count": 19,
   "id": "bb4aea73",
   "metadata": {},
   "outputs": [
    {
     "name": "stdout",
     "output_type": "stream",
     "text": [
      "Total districts 64\n",
      "Total Upazila 488\n",
      "Total Union 4550\n"
     ]
    }
   ],
   "source": [
    "dis=0\n",
    "up=0\n",
    "uni=0\n",
    "for division in divisions:\n",
    "    dis+=division_info[division][\"district\"]\n",
    "    up+=division_info[division][\"upazila\"]\n",
    "    uni+=division_info[division][\"union\"]\n",
    "print(\"Total districts\", dis)\n",
    "print(\"Total Upazila\", up)\n",
    "print(\"Total Union\", uni)\n"
   ]
  }
 ],
 "metadata": {
  "kernelspec": {
   "display_name": "Python 3 (ipykernel)",
   "language": "python",
   "name": "python3"
  },
  "language_info": {
   "codemirror_mode": {
    "name": "ipython",
    "version": 3
   },
   "file_extension": ".py",
   "mimetype": "text/x-python",
   "name": "python",
   "nbconvert_exporter": "python",
   "pygments_lexer": "ipython3",
   "version": "3.9.12"
  }
 },
 "nbformat": 4,
 "nbformat_minor": 5
}
