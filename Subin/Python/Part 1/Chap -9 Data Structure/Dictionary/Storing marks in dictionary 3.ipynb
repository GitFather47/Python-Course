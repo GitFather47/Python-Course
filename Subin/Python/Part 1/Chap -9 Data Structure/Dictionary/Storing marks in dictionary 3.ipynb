{
 "cells": [
  {
   "cell_type": "code",
   "execution_count": 1,
   "id": "ca02b942",
   "metadata": {},
   "outputs": [],
   "source": [
    "marks = {\"DH1001\": {\"Math\": 74, \"English\": 73}, \"DH1002\": {\"Math\": 70, \"English\": 75},}"
   ]
  },
  {
   "cell_type": "code",
   "execution_count": 2,
   "id": "12409685",
   "metadata": {},
   "outputs": [
    {
     "name": "stdout",
     "output_type": "stream",
     "text": [
      "{'Math': 74, 'English': 73}\n"
     ]
    }
   ],
   "source": [
    "print(marks[\"DH1001\"])"
   ]
  },
  {
   "cell_type": "code",
   "execution_count": 3,
   "id": "7fc42d92",
   "metadata": {},
   "outputs": [
    {
     "name": "stdout",
     "output_type": "stream",
     "text": [
      "73\n"
     ]
    }
   ],
   "source": [
    "print(marks[\"DH1001\"][\"English\"])"
   ]
  },
  {
   "cell_type": "code",
   "execution_count": 4,
   "id": "b63a463e",
   "metadata": {},
   "outputs": [],
   "source": [
    "marks[\"DH1003\"] =  {\"Math\": 68, \"English\": 72}"
   ]
  },
  {
   "cell_type": "code",
   "execution_count": 5,
   "id": "ac693d47",
   "metadata": {},
   "outputs": [
    {
     "name": "stdout",
     "output_type": "stream",
     "text": [
      "{'DH1001': {'Math': 74, 'English': 73}, 'DH1002': {'Math': 70, 'English': 75}, 'DH1003': {'Math': 68, 'English': 72}}\n"
     ]
    }
   ],
   "source": [
    "print(marks)"
   ]
  },
  {
   "cell_type": "code",
   "execution_count": 6,
   "id": "8c033aff",
   "metadata": {},
   "outputs": [
    {
     "name": "stdout",
     "output_type": "stream",
     "text": [
      "{'Math': 68, 'English': 72}\n"
     ]
    }
   ],
   "source": [
    "print(marks[\"DH1003\"])"
   ]
  },
  {
   "cell_type": "code",
   "execution_count": 7,
   "id": "0def49c4",
   "metadata": {},
   "outputs": [
    {
     "name": "stdout",
     "output_type": "stream",
     "text": [
      "68\n"
     ]
    }
   ],
   "source": [
    "print(marks[\"DH1003\"][\"Math\"])"
   ]
  }
 ],
 "metadata": {
  "kernelspec": {
   "display_name": "Python 3 (ipykernel)",
   "language": "python",
   "name": "python3"
  },
  "language_info": {
   "codemirror_mode": {
    "name": "ipython",
    "version": 3
   },
   "file_extension": ".py",
   "mimetype": "text/x-python",
   "name": "python",
   "nbconvert_exporter": "python",
   "pygments_lexer": "ipython3",
   "version": "3.9.12"
  }
 },
 "nbformat": 4,
 "nbformat_minor": 5
}
