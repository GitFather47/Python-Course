{
 "cells": [
  {
   "cell_type": "code",
   "execution_count": 26,
   "id": "c904153c",
   "metadata": {},
   "outputs": [
    {
     "name": "stdout",
     "output_type": "stream",
     "text": [
      "PALINDROME!!\n"
     ]
    }
   ],
   "source": [
    "def palin_check(n):\n",
    "    rev=n[::-1]\n",
    "    if n==rev:\n",
    "        print(\"PALINDROME!!\")\n",
    "    else:\n",
    "        print(\"Nope!!\")\n",
    "palin_check(\"madam\")"
   ]
  },
  {
   "cell_type": "code",
   "execution_count": 19,
   "id": "0832b864",
   "metadata": {},
   "outputs": [
    {
     "name": "stdout",
     "output_type": "stream",
     "text": [
      "edcba\n"
     ]
    }
   ],
   "source": [
    "#case 1.slicing (like for loop)[start:end:increment/decreamnet]\n",
    "#case 2.if there is nothing beside colon like this[::-1]it will take the whole string\"s start and end point(end point doesn't\n",
    "#count)\n",
    "#3.if it goes out of bounds (in terms of case 2),it will start reverse indexing\n",
    "#Vx=\"abcde\"\n",
    "#x=x[::-1]\n",
    "#print(x)"
   ]
  }
 ],
 "metadata": {
  "kernelspec": {
   "display_name": "Python 3 (ipykernel)",
   "language": "python",
   "name": "python3"
  },
  "language_info": {
   "codemirror_mode": {
    "name": "ipython",
    "version": 3
   },
   "file_extension": ".py",
   "mimetype": "text/x-python",
   "name": "python",
   "nbconvert_exporter": "python",
   "pygments_lexer": "ipython3",
   "version": "3.9.12"
  }
 },
 "nbformat": 4,
 "nbformat_minor": 5
}
