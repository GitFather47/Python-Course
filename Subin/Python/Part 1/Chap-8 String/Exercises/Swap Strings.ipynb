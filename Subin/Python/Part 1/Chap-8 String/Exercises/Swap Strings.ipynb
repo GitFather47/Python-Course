{
 "cells": [
  {
   "cell_type": "code",
   "execution_count": 1,
   "id": "647b4497",
   "metadata": {},
   "outputs": [],
   "source": [
    "def jimmy(str):\n",
    "    swap_str=\"\"\n",
    "    for i in range(len(str)):\n",
    "        if i%2==0:\n",
    "            swap_str+=str[i+1]\n",
    "        else:\n",
    "            swap_str+=str[i-1]\n",
    "    return swap_str"
   ]
  },
  {
   "cell_type": "code",
   "execution_count": 2,
   "id": "b11af389",
   "metadata": {},
   "outputs": [
    {
     "name": "stdout",
     "output_type": "stream",
     "text": [
      "Swap those strings: Bangladesh\n"
     ]
    },
    {
     "data": {
      "text/plain": [
       "'aBgnaledhs'"
      ]
     },
     "execution_count": 2,
     "metadata": {},
     "output_type": "execute_result"
    }
   ],
   "source": [
    "jimmy(input(\"Swap those strings: \"))"
   ]
  }
 ],
 "metadata": {
  "kernelspec": {
   "display_name": "Python 3 (ipykernel)",
   "language": "python",
   "name": "python3"
  },
  "language_info": {
   "codemirror_mode": {
    "name": "ipython",
    "version": 3
   },
   "file_extension": ".py",
   "mimetype": "text/x-python",
   "name": "python",
   "nbconvert_exporter": "python",
   "pygments_lexer": "ipython3",
   "version": "3.9.12"
  }
 },
 "nbformat": 4,
 "nbformat_minor": 5
}
