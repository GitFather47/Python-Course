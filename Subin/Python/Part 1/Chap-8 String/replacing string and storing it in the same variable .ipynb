{
 "cells": [
  {
   "cell_type": "code",
   "execution_count": 1,
   "id": "87f06c9c",
   "metadata": {},
   "outputs": [],
   "source": [
    "#using same variable to replace\n",
    "text = \"hello\"\n",
    "text = text.replace(\"hello\", \"Hello\")"
   ]
  },
  {
   "cell_type": "code",
   "execution_count": 2,
   "id": "3c372536",
   "metadata": {},
   "outputs": [
    {
     "name": "stdout",
     "output_type": "stream",
     "text": [
      "Hello\n"
     ]
    }
   ],
   "source": [
    "print(text)"
   ]
  },
  {
   "cell_type": "code",
   "execution_count": 3,
   "id": "dbee2e59",
   "metadata": {},
   "outputs": [],
   "source": [
    "# you can replce a string but can't change a string."
   ]
  },
  {
   "cell_type": "code",
   "execution_count": null,
   "id": "2b27b588",
   "metadata": {},
   "outputs": [],
   "source": []
  }
 ],
 "metadata": {
  "kernelspec": {
   "display_name": "Python 3 (ipykernel)",
   "language": "python",
   "name": "python3"
  },
  "language_info": {
   "codemirror_mode": {
    "name": "ipython",
    "version": 3
   },
   "file_extension": ".py",
   "mimetype": "text/x-python",
   "name": "python",
   "nbconvert_exporter": "python",
   "pygments_lexer": "ipython3",
   "version": "3.9.12"
  }
 },
 "nbformat": 4,
 "nbformat_minor": 5
}
