{
 "cells": [
  {
   "cell_type": "code",
   "execution_count": 1,
   "id": "ed02948d",
   "metadata": {},
   "outputs": [],
   "source": [
    "name = \"Mr.Anderson\""
   ]
  },
  {
   "cell_type": "code",
   "execution_count": 2,
   "id": "f0f60806",
   "metadata": {},
   "outputs": [
    {
     "name": "stdout",
     "output_type": "stream",
     "text": [
      "Dear Sir\n"
     ]
    }
   ],
   "source": [
    "if name.startswith(\"Mr.\"):\n",
    "    print(\"Dear Sir\")"
   ]
  }
 ],
 "metadata": {
  "kernelspec": {
   "display_name": "Python 3 (ipykernel)",
   "language": "python",
   "name": "python3"
  },
  "language_info": {
   "codemirror_mode": {
    "name": "ipython",
    "version": 3
   },
   "file_extension": ".py",
   "mimetype": "text/x-python",
   "name": "python",
   "nbconvert_exporter": "python",
   "pygments_lexer": "ipython3",
   "version": "3.9.12"
  }
 },
 "nbformat": 4,
 "nbformat_minor": 5
}
