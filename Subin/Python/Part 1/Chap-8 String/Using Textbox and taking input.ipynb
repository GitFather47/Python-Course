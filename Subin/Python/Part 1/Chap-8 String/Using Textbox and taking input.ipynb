{
 "cells": [
  {
   "cell_type": "code",
   "execution_count": 1,
   "id": "7580a604",
   "metadata": {},
   "outputs": [
    {
     "name": "stdout",
     "output_type": "stream",
     "text": [
      "Hello Sir,how are you?\n"
     ]
    }
   ],
   "source": [
    "import turtle\n",
    "input = turtle.textinput(\"name\", \"What's ur name?\")\n",
    "name = input.lower()\n",
    "if name.startswith(\"mr\"):\n",
    "    print(\"Hello Sir,how are you?\")\n",
    "elif name.startswith(\"mrs\") or name.startswith(\"miss\") or name.startswith(\"ms\"):\n",
    "    print(\"Hello Madam,how are you?\")\n",
    "else:\n",
    "    capital = name.capitalize()\n",
    "    str = \"Hi \" + capital + \"! How are you?\"\n",
    "    print(str)\n",
    "    \n",
    "turtle.exitonclick()"
   ]
  },
  {
   "cell_type": "code",
   "execution_count": null,
   "id": "3e3a4756",
   "metadata": {},
   "outputs": [],
   "source": []
  }
 ],
 "metadata": {
  "kernelspec": {
   "display_name": "Python 3 (ipykernel)",
   "language": "python",
   "name": "python3"
  },
  "language_info": {
   "codemirror_mode": {
    "name": "ipython",
    "version": 3
   },
   "file_extension": ".py",
   "mimetype": "text/x-python",
   "name": "python",
   "nbconvert_exporter": "python",
   "pygments_lexer": "ipython3",
   "version": "3.9.12"
  }
 },
 "nbformat": 4,
 "nbformat_minor": 5
}
