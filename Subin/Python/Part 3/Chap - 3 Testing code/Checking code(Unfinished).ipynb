{
 "cells": [
  {
   "cell_type": "code",
   "execution_count": 2,
   "id": "f3584974",
   "metadata": {},
   "outputs": [
    {
     "name": "stdout",
     "output_type": "stream",
     "text": [
      "3.0\n"
     ]
    }
   ],
   "source": [
    "def average(L):\n",
    "    if not L:\n",
    "        return None\n",
    "    return sum(L)/len(L)\n",
    "\n",
    "if __name__==\"__main__\":\n",
    "    L=[1,2,3,4,5]\n",
    "    print(average(L))"
   ]
  },
  {
   "cell_type": "code",
   "execution_count": 3,
   "id": "54fc6947",
   "metadata": {},
   "outputs": [
    {
     "name": "stdout",
     "output_type": "stream",
     "text": [
      "test passed\n"
     ]
    }
   ],
   "source": [
    "if __name__==\"__main__\":\n",
    "    L=[1,2,3,4,5]\n",
    "    expected_result=3.0\n",
    "    result = average(L)\n",
    "    \n",
    "    if expected_result==result:\n",
    "        print(\"test passed\")\n",
    "    else:\n",
    "        print(\"FAILED!\",\"Received:\",result ,\"Expected:\",expected_result)"
   ]
  },
  {
   "cell_type": "code",
   "execution_count": 2,
   "id": "40077069",
   "metadata": {},
   "outputs": [],
   "source": [
    "assert 2==2"
   ]
  },
  {
   "cell_type": "code",
   "execution_count": 3,
   "id": "959acce6",
   "metadata": {},
   "outputs": [
    {
     "ename": "AssertionError",
     "evalue": "",
     "output_type": "error",
     "traceback": [
      "\u001b[1;31m---------------------------------------------------------------------------\u001b[0m",
      "\u001b[1;31mAssertionError\u001b[0m                            Traceback (most recent call last)",
      "Input \u001b[1;32mIn [3]\u001b[0m, in \u001b[0;36m<cell line: 1>\u001b[1;34m()\u001b[0m\n\u001b[1;32m----> 1\u001b[0m \u001b[38;5;28;01massert\u001b[39;00m \u001b[38;5;241m2\u001b[39m \u001b[38;5;241m==\u001b[39m \u001b[38;5;241m3\u001b[39m\n",
      "\u001b[1;31mAssertionError\u001b[0m: "
     ]
    }
   ],
   "source": [
    "assert 2 == 3"
   ]
  },
  {
   "cell_type": "code",
   "execution_count": 4,
   "id": "7874a5e0",
   "metadata": {},
   "outputs": [],
   "source": [
    "assert 2==2.0"
   ]
  },
  {
   "cell_type": "code",
   "execution_count": 5,
   "id": "de69ba5b",
   "metadata": {},
   "outputs": [],
   "source": [
    "li = []\n",
    "assert li ==[]"
   ]
  },
  {
   "cell_type": "code",
   "execution_count": 7,
   "id": "9af50497",
   "metadata": {},
   "outputs": [
    {
     "ename": "AssertionError",
     "evalue": "",
     "output_type": "error",
     "traceback": [
      "\u001b[1;31m---------------------------------------------------------------------------\u001b[0m",
      "\u001b[1;31mAssertionError\u001b[0m                            Traceback (most recent call last)",
      "Input \u001b[1;32mIn [7]\u001b[0m, in \u001b[0;36m<cell line: 1>\u001b[1;34m()\u001b[0m\n\u001b[1;32m----> 1\u001b[0m \u001b[38;5;28;01massert\u001b[39;00m li \u001b[38;5;241m==\u001b[39m [\u001b[38;5;241m1\u001b[39m]\n",
      "\u001b[1;31mAssertionError\u001b[0m: "
     ]
    }
   ],
   "source": [
    "assert li == [1]"
   ]
  },
  {
   "cell_type": "code",
   "execution_count": 12,
   "id": "eaf41f15",
   "metadata": {},
   "outputs": [
    {
     "ename": "AssertionError",
     "evalue": "how can 3 be less than 2?",
     "output_type": "error",
     "traceback": [
      "\u001b[1;31m---------------------------------------------------------------------------\u001b[0m",
      "\u001b[1;31mAssertionError\u001b[0m                            Traceback (most recent call last)",
      "Input \u001b[1;32mIn [12]\u001b[0m, in \u001b[0;36m<cell line: 2>\u001b[1;34m()\u001b[0m\n\u001b[0;32m      1\u001b[0m \u001b[38;5;28;01massert\u001b[39;00m \u001b[38;5;241m3\u001b[39m\u001b[38;5;241m>\u001b[39m\u001b[38;5;241m2\u001b[39m,\u001b[38;5;124m\"\u001b[39m\u001b[38;5;124mof course 3 is greater than 2\u001b[39m\u001b[38;5;124m\"\u001b[39m\n\u001b[1;32m----> 2\u001b[0m \u001b[38;5;28;01massert\u001b[39;00m \u001b[38;5;241m3\u001b[39m\u001b[38;5;241m<\u001b[39m\u001b[38;5;241m2\u001b[39m,\u001b[38;5;124m\"\u001b[39m\u001b[38;5;124mhow can 3 be less than 2?\u001b[39m\u001b[38;5;124m\"\u001b[39m\n",
      "\u001b[1;31mAssertionError\u001b[0m: how can 3 be less than 2?"
     ]
    }
   ],
   "source": [
    "assert 3>2,\"of course 3 is greater than 2\"\n",
    "assert 3<2,\"how can 3 be less than 2?\""
   ]
  },
  {
   "cell_type": "code",
   "execution_count": 10,
   "id": "12065eec",
   "metadata": {},
   "outputs": [],
   "source": [
    "def average(L):\n",
    "    if not L:\n",
    "        return None\n",
    "    return sum(L)/len(L)\n",
    "\n",
    "if __name__==\"__main__\":\n",
    "    L=[1,2,3,4,5]\n",
    "    expected_result=3.0\n",
    "    assert expected_result == average(L),\"avaerage () is wrong\""
   ]
  },
  {
   "cell_type": "code",
   "execution_count": 13,
   "id": "f97ab683",
   "metadata": {},
   "outputs": [
    {
     "ename": "AssertionError",
     "evalue": "avaerage () is wrong",
     "output_type": "error",
     "traceback": [
      "\u001b[1;31m---------------------------------------------------------------------------\u001b[0m",
      "\u001b[1;31mAssertionError\u001b[0m                            Traceback (most recent call last)",
      "Input \u001b[1;32mIn [13]\u001b[0m, in \u001b[0;36m<cell line: 1>\u001b[1;34m()\u001b[0m\n\u001b[0;32m      2\u001b[0m L\u001b[38;5;241m=\u001b[39m[\u001b[38;5;241m1\u001b[39m,\u001b[38;5;241m2\u001b[39m,\u001b[38;5;241m3\u001b[39m,\u001b[38;5;241m4\u001b[39m,\u001b[38;5;241m5\u001b[39m]\n\u001b[0;32m      3\u001b[0m expected_result\u001b[38;5;241m=\u001b[39m\u001b[38;5;241m4.0\u001b[39m\n\u001b[1;32m----> 4\u001b[0m \u001b[38;5;28;01massert\u001b[39;00m expected_result \u001b[38;5;241m==\u001b[39m average(L),\u001b[38;5;124m\"\u001b[39m\u001b[38;5;124mavaerage () is wrong\u001b[39m\u001b[38;5;124m\"\u001b[39m\n",
      "\u001b[1;31mAssertionError\u001b[0m: avaerage () is wrong"
     ]
    }
   ],
   "source": [
    "if __name__==\"__main__\":\n",
    "    L=[1,2,3,4,5]\n",
    "    expected_result=4.0\n",
    "    assert expected_result == average(L),\"avaerage () is wrong\""
   ]
  },
  {
   "cell_type": "code",
   "execution_count": null,
   "id": "1ad84aac",
   "metadata": {},
   "outputs": [],
   "source": [
    "#pytest unfinished"
   ]
  }
 ],
 "metadata": {
  "kernelspec": {
   "display_name": "Python 3 (ipykernel)",
   "language": "python",
   "name": "python3"
  },
  "language_info": {
   "codemirror_mode": {
    "name": "ipython",
    "version": 3
   },
   "file_extension": ".py",
   "mimetype": "text/x-python",
   "name": "python",
   "nbconvert_exporter": "python",
   "pygments_lexer": "ipython3",
   "version": "3.9.12"
  }
 },
 "nbformat": 4,
 "nbformat_minor": 5
}
