{
 "cells": [
  {
   "cell_type": "code",
   "execution_count": 1,
   "id": "7ebc8d2f",
   "metadata": {},
   "outputs": [],
   "source": [
    "n=100\n",
    "even=[False]*(n+1)\n",
    "for i in range(0,n+1,2):\n",
    "    even[i]=True"
   ]
  },
  {
   "cell_type": "code",
   "execution_count": 2,
   "id": "55b79267",
   "metadata": {},
   "outputs": [
    {
     "data": {
      "text/plain": [
       "True"
      ]
     },
     "execution_count": 2,
     "metadata": {},
     "output_type": "execute_result"
    }
   ],
   "source": [
    "even[2]"
   ]
  },
  {
   "cell_type": "code",
   "execution_count": 3,
   "id": "e9b38199",
   "metadata": {},
   "outputs": [
    {
     "data": {
      "text/plain": [
       "False"
      ]
     },
     "execution_count": 3,
     "metadata": {},
     "output_type": "execute_result"
    }
   ],
   "source": [
    "even[13]"
   ]
  },
  {
   "cell_type": "code",
   "execution_count": 4,
   "id": "5dcb3a3f",
   "metadata": {},
   "outputs": [
    {
     "data": {
      "text/plain": [
       "True"
      ]
     },
     "execution_count": 4,
     "metadata": {},
     "output_type": "execute_result"
    }
   ],
   "source": [
    "even[14]"
   ]
  },
  {
   "cell_type": "code",
   "execution_count": null,
   "id": "ade1b4f9",
   "metadata": {},
   "outputs": [],
   "source": []
  }
 ],
 "metadata": {
  "kernelspec": {
   "display_name": "Python 3 (ipykernel)",
   "language": "python",
   "name": "python3"
  },
  "language_info": {
   "codemirror_mode": {
    "name": "ipython",
    "version": 3
   },
   "file_extension": ".py",
   "mimetype": "text/x-python",
   "name": "python",
   "nbconvert_exporter": "python",
   "pygments_lexer": "ipython3",
   "version": "3.9.12"
  }
 },
 "nbformat": 4,
 "nbformat_minor": 5
}
