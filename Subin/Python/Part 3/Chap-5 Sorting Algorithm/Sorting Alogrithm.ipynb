{
 "cells": [
  {
   "cell_type": "code",
   "execution_count": 1,
   "id": "5ace9453",
   "metadata": {},
   "outputs": [
    {
     "name": "stdout",
     "output_type": "stream",
     "text": [
      "Before selection sort: [6, 1, 3, 5, 7]\n",
      "After selection sort: [1, 3, 5, 6, 7]\n"
     ]
    }
   ],
   "source": [
    "\"\"\"\n",
    "Selection short\n",
    "below is the example of short to big(all of them)\n",
    "\"\"\"\n",
    "def selection_sort(L):\n",
    "    n=len(L)\n",
    "    for i in range(0,n-1):\n",
    "        index_min=i#index number to compare \n",
    "        for h in range(i+1,n):\n",
    "            if L[h]<L[index_min]:\n",
    "                index_min=h\n",
    "        if index_min!=i:\n",
    "            L[i],L[index_min]=L[index_min],L[i]\n",
    "            \n",
    "if __name__==\"__main__\":\n",
    "    L=[6,1,3,5,7]\n",
    "    print(\"Before selection sort:\",L)\n",
    "    selection_sort(L)\n",
    "    print(\"After selection sort:\",L)"
   ]
  },
  {
   "cell_type": "code",
   "execution_count": 2,
   "id": "f9e4067a",
   "metadata": {},
   "outputs": [
    {
     "name": "stdout",
     "output_type": "stream",
     "text": [
      "Before selection sort: [6, 1, 3, 7, 5]\n",
      "After selection sort: [1, 3, 6, 5, 7]\n"
     ]
    }
   ],
   "source": [
    "def bubble_sort(L):\n",
    "    n=len(L)\n",
    "    i=0#index to stop comparing if i=0 ,loop ends at 5 , if i=1 ,loop ends at 4 .etc..\n",
    "    for j in range(0,n-i-1):\n",
    "        if L[j] > L[j+1]:\n",
    "            L[j],L[j+1]=L[j+1],L[j]\n",
    "if __name__==\"__main__\":\n",
    "    L=[6,1,3,7,5]\n",
    "    print(\"Before selection sort:\",L)\n",
    "    bubble_sort(L)\n",
    "    print(\"After selection sort:\",L)"
   ]
  },
  {
   "cell_type": "code",
   "execution_count": 2,
   "id": "b7da47f6",
   "metadata": {},
   "outputs": [
    {
     "name": "stdout",
     "output_type": "stream",
     "text": [
      "Before Insertion Sort: [6, 1, 4, 9, 2]\n",
      "After  Insertion Sort: [1, 2, 4, 6, 9]\n"
     ]
    }
   ],
   "source": [
    "\"\"\"\n",
    "it works like a variable swapping with 3rd variable\n",
    "\"\"\"\n",
    "def insertion_sort(L):\n",
    "    n=len(L)\n",
    "    \n",
    "    for i in range(1,n):\n",
    "        item=L[i]#3rd variable which stores the desired variable to replace/work\n",
    "        j=i-1\n",
    "        \n",
    "        while j>=0 and L[j]>item:\n",
    "            L[j+1]=L[j]\n",
    "            j-=1\n",
    "            L[j+1]=item\n",
    "if __name__==\"__main__\":\n",
    "    L=[6,1,4,9,2]\n",
    "    print(\"Before Insertion Sort:\",L)\n",
    "    insertion_sort(L)\n",
    "    print(\"After  Insertion Sort:\",L)"
   ]
  },
  {
   "cell_type": "code",
   "execution_count": null,
   "id": "48e1048b",
   "metadata": {},
   "outputs": [],
   "source": [
    "#explaination for insertation sort\n",
    "\"\"\"\n",
    "Certainly! Let's walk through the `insertion_sort` function with the provided list `[6, 1, 4, 9, 2]` and see what happens in each iteration of the loop:\n",
    "\n",
    "1. **Initial List**: `[6, 1, 4, 9, 2]`\n",
    "   - `i` is initially set to 1, and `item` is 1.\n",
    "   - `j` is initially set to 0.\n",
    "\n",
    "2. **Iteration 1**:\n",
    "   - The while loop checks if `j >= 0` and `L[j] > item` (0 >= 0 and 6 > 1), which is true.\n",
    "   - So, `L[j]` (6) is shifted one position to the right.\n",
    "   - `j` is decremented to -1.\n",
    "   - Now, `L[j+1]` is set to `item`, so the list becomes `[1, 6, 4, 9, 2]`.\n",
    "\n",
    "3. **Iteration 2**:\n",
    "   - `i` is now 2, and `item` is 4.\n",
    "   - `j` is initially set to 1.\n",
    "\n",
    "4. **Iteration 2, Subiteration 1**:\n",
    "   - The while loop checks if `j >= 0` and `L[j] > item` (1 >= 0 and 6 > 4), which is true.\n",
    "   - `L[j]` (6) is shifted one position to the right.\n",
    "   - `j` is decremented to 0.\n",
    "\n",
    "5. **Iteration 2, Subiteration 2**:\n",
    "   - The while loop checks if `j >= 0` and `L[j] > item` (0 >= 0 and 1 is not greater than 4), which is false.\n",
    "   - The loop exits, and `item` (4) is inserted at `L[j+1]`, making the list `[1, 4, 6, 9, 2]`.\n",
    "\n",
    "6. **Iteration 3**:\n",
    "   - `i` is now 3, and `item` is 9.\n",
    "   - `j` is initially set to 2.\n",
    "\n",
    "7. **Iteration 3, Subiteration 1**:\n",
    "   - The while loop checks if `j >= 0` and `L[j] > item` (2 >= 0 and 6 is not greater than 9), which is false.\n",
    "   - The loop exits, and `item` (9) is inserted at `L[j+1]`, making the list `[1, 4, 6, 9, 2]`.\n",
    "\n",
    "8. **Iteration 4**:\n",
    "   - `i` is now 4, and `item` is 2.\n",
    "   - `j` is initially set to 3.\n",
    "\n",
    "9. **Iteration 4, Subiteration 1**:\n",
    "   - The while loop checks if `j >= 0` and `L[j] > item` (3 >= 0 and 9 > 2), which is true.\n",
    "   - `L[j]` (9) is shifted one position to the right.\n",
    "   - `j` is decremented to 2.\n",
    "\n",
    "10. **Iteration 4, Subiteration 2**:\n",
    "    - The while loop checks if `j >= 0` and `L[j] > item` (2 >= 0 and 6 > 2), which is true.\n",
    "    - `L[j]` (6) is shifted one position to the right.\n",
    "    - `j` is decremented to 1.\n",
    "\n",
    "11. **Iteration 4, Subiteration 3**:\n",
    "    - The while loop checks if `j >= 0` and `L[j] > item` (1 >= 0 and 4 > 2), which is true.\n",
    "    - `L[j]` (4) is shifted one position to the right.\n",
    "    - `j` is decremented to 0.\n",
    "\n",
    "12. **Iteration 4, Subiteration 4**:\n",
    "    - The while loop checks if `j >= 0` and `L[j] > item` (0 >= 0 and 1 is not greater than 2), which is false.\n",
    "    - The loop exits, and `item` (2) is inserted at `L[j+1]`, making the list `[1, 2, 4, 6, 9]`.\n",
    "\n",
    "The loop completes, and the sorted list `[1, 2, 4, 6, 9]` is achieved after all iterations. This is the final sorted result.\n",
    "\"\"\""
   ]
  }
 ],
 "metadata": {
  "kernelspec": {
   "display_name": "Python 3 (ipykernel)",
   "language": "python",
   "name": "python3"
  },
  "language_info": {
   "codemirror_mode": {
    "name": "ipython",
    "version": 3
   },
   "file_extension": ".py",
   "mimetype": "text/x-python",
   "name": "python",
   "nbconvert_exporter": "python",
   "pygments_lexer": "ipython3",
   "version": "3.9.12"
  }
 },
 "nbformat": 4,
 "nbformat_minor": 5
}
