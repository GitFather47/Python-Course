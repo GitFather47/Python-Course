{
 "cells": [
  {
   "cell_type": "code",
   "execution_count": 2,
   "id": "0a7a843d",
   "metadata": {},
   "outputs": [],
   "source": [
    "#for loop\n",
    "def linear_search(L,n):\n",
    "    n=len(L)\n",
    "    \n",
    "    for i in range(n):\n",
    "        if L[i] == x:\n",
    "            return i\n",
    "    return -1\n"
   ]
  },
  {
   "cell_type": "code",
   "execution_count": 1,
   "id": "80dcf9e6",
   "metadata": {},
   "outputs": [],
   "source": [
    "#while loop\n",
    "def linear_search(L,n):\n",
    "    n=len(L)\n",
    "    i-0\n",
    "    while i<n:\n",
    "        if L[i] == x:\n",
    "            return i\n",
    "        i+=1\n",
    "    return -1\n"
   ]
  },
  {
   "cell_type": "code",
   "execution_count": 2,
   "id": "977bc507",
   "metadata": {},
   "outputs": [],
   "source": [
    "def binary_search(L,y):\n",
    "    left=0\n",
    "    right=len(L)-1\n",
    "    while left<=right:\n",
    "        mid=(left+right)//2\n",
    "        \n",
    "        if L[mid]==x:\n",
    "            return mid\n",
    "        if L[mid] >x:\n",
    "            right=mid-1\n",
    "        else:\n",
    "            left=mid+1#use 4,5,6 method ..If there are 10 elements,if x<5 then right=5-1 otherwise left=5+1\n",
    "            #here 5 is mid\n",
    "    return -1"
   ]
  },
  {
   "cell_type": "code",
   "execution_count": 4,
   "id": "16a78029",
   "metadata": {},
   "outputs": [
    {
     "name": "stdout",
     "output_type": "stream",
     "text": [
      "1 found in correct position\n",
      "2 found in correct position\n",
      "3 found in correct position\n",
      "4 not in list\n",
      "5 found in correct position\n",
      "6 found in correct position\n",
      "7 found in correct position\n",
      "8 found in correct position\n",
      "9 found in correct position\n",
      "10 not in list\n",
      "Program terminated\n"
     ]
    }
   ],
   "source": [
    "if __name__==\"__main__\":\n",
    "    L=[1,2,3,5,6,7,8,9]\n",
    "    for x in range(1,11):\n",
    "        index=binary_search(L,x)\n",
    "        \n",
    "        if index==-1:\n",
    "            if x in L:\n",
    "                print(x,\"is in L,but function returned -1\")\n",
    "            else:\n",
    "                print(x,\"not in list\")\n",
    "        else:\n",
    "            if L[index]==x:\n",
    "                print(x,\"found in correct position\")\n",
    "            else:\n",
    "                print(x,\"binary search is correct and the position is\",x)\n",
    "    print(\"Program terminated\")"
   ]
  },
  {
   "cell_type": "code",
   "execution_count": null,
   "id": "8e74770a",
   "metadata": {},
   "outputs": [],
   "source": []
  }
 ],
 "metadata": {
  "kernelspec": {
   "display_name": "Python 3 (ipykernel)",
   "language": "python",
   "name": "python3"
  },
  "language_info": {
   "codemirror_mode": {
    "name": "ipython",
    "version": 3
   },
   "file_extension": ".py",
   "mimetype": "text/x-python",
   "name": "python",
   "nbconvert_exporter": "python",
   "pygments_lexer": "ipython3",
   "version": "3.9.12"
  }
 },
 "nbformat": 4,
 "nbformat_minor": 5
}
