{
 "cells": [
  {
   "cell_type": "code",
   "execution_count": 1,
   "id": "bf149a45",
   "metadata": {},
   "outputs": [
    {
     "data": {
      "text/plain": [
       "['Afganistan',\n",
       " 'Africa',\n",
       " 'America',\n",
       " 'India',\n",
       " 'Japan',\n",
       " 'England',\n",
       " 'Greenland',\n",
       " 'New Zealand',\n",
       " 'Netherlands',\n",
       " 'Sweden',\n",
       " 'Switzerland']"
      ]
     },
     "execution_count": 1,
     "metadata": {},
     "output_type": "execute_result"
    }
   ],
   "source": [
    "s =\"Afganistan,Africa,America,India,Japan,England,Greenland,New Zealand,Netherlands,Sweden,Switzerland\"\n",
    "countries=s.split(\",\")\n",
    "countries"
   ]
  },
  {
   "cell_type": "code",
   "execution_count": 2,
   "id": "5e0486d2",
   "metadata": {},
   "outputs": [
    {
     "data": {
      "text/plain": [
       "['England', 'Greenland', 'New Zealand', 'Netherlands', 'Switzerland']"
      ]
     },
     "execution_count": 2,
     "metadata": {},
     "output_type": "execute_result"
    }
   ],
   "source": [
    "li = [item for item in countries if item.endswith(\"land\") or item.endswith(\"lands\")]\n",
    "li"
   ]
  },
  {
   "cell_type": "code",
   "execution_count": 8,
   "id": "b929d867",
   "metadata": {},
   "outputs": [
    {
     "name": "stdout",
     "output_type": "stream",
     "text": [
      "<re.Match object; span=(0, 6), match='Bangla'>\n"
     ]
    },
    {
     "data": {
      "text/plain": [
       "'Bangla'"
      ]
     },
     "execution_count": 8,
     "metadata": {},
     "output_type": "execute_result"
    }
   ],
   "source": [
    "import re\n",
    "match1 = re.search('Bangla','Bangladesh')\n",
    "print(match1)\n",
    "match1.group()"
   ]
  },
  {
   "cell_type": "code",
   "execution_count": 4,
   "id": "474be648",
   "metadata": {},
   "outputs": [
    {
     "data": {
      "text/plain": [
       "'des'"
      ]
     },
     "execution_count": 4,
     "metadata": {},
     "output_type": "execute_result"
    }
   ],
   "source": [
    "match2 = re.search('des','Bangladesh')\n",
    "match2.group()"
   ]
  },
  {
   "cell_type": "code",
   "execution_count": 5,
   "id": "f6c9be36",
   "metadata": {},
   "outputs": [
    {
     "data": {
      "text/plain": [
       "'desh'"
      ]
     },
     "execution_count": 5,
     "metadata": {},
     "output_type": "execute_result"
    }
   ],
   "source": [
    "match3 = re.search('desh','Bangladesh')\n",
    "match3.group()"
   ]
  },
  {
   "cell_type": "code",
   "execution_count": 6,
   "id": "7540ccae",
   "metadata": {},
   "outputs": [
    {
     "ename": "AttributeError",
     "evalue": "'NoneType' object has no attribute 'group'",
     "output_type": "error",
     "traceback": [
      "\u001b[1;31m---------------------------------------------------------------------------\u001b[0m",
      "\u001b[1;31mAttributeError\u001b[0m                            Traceback (most recent call last)",
      "Input \u001b[1;32mIn [6]\u001b[0m, in \u001b[0;36m<cell line: 2>\u001b[1;34m()\u001b[0m\n\u001b[0;32m      1\u001b[0m match4 \u001b[38;5;241m=\u001b[39m re\u001b[38;5;241m.\u001b[39msearch(\u001b[38;5;124m'\u001b[39m\u001b[38;5;124mdets\u001b[39m\u001b[38;5;124m'\u001b[39m,\u001b[38;5;124m'\u001b[39m\u001b[38;5;124mBangladesh\u001b[39m\u001b[38;5;124m'\u001b[39m)\n\u001b[1;32m----> 2\u001b[0m \u001b[43mmatch4\u001b[49m\u001b[38;5;241;43m.\u001b[39;49m\u001b[43mgroup\u001b[49m()\n",
      "\u001b[1;31mAttributeError\u001b[0m: 'NoneType' object has no attribute 'group'"
     ]
    }
   ],
   "source": [
    "match4 = re.search('dets','Bangladesh')\n",
    "match4.group()"
   ]
  },
  {
   "cell_type": "code",
   "execution_count": 7,
   "id": "36d5dc6c",
   "metadata": {},
   "outputs": [
    {
     "data": {
      "text/plain": [
       "NoneType"
      ]
     },
     "execution_count": 7,
     "metadata": {},
     "output_type": "execute_result"
    }
   ],
   "source": [
    "type(match4)"
   ]
  },
  {
   "cell_type": "code",
   "execution_count": 8,
   "id": "d804c2e1",
   "metadata": {},
   "outputs": [
    {
     "data": {
      "text/plain": [
       "True"
      ]
     },
     "execution_count": 8,
     "metadata": {},
     "output_type": "execute_result"
    }
   ],
   "source": [
    "match4 is None"
   ]
  },
  {
   "cell_type": "code",
   "execution_count": 12,
   "id": "93b0e380",
   "metadata": {},
   "outputs": [
    {
     "data": {
      "text/plain": [
       "'A'"
      ]
     },
     "execution_count": 12,
     "metadata": {},
     "output_type": "execute_result"
    }
   ],
   "source": [
    "s=\"America\"\n",
    "match5=re.search('.',s)\n",
    "match5.group()"
   ]
  },
  {
   "cell_type": "code",
   "execution_count": 13,
   "id": "786a438a",
   "metadata": {},
   "outputs": [
    {
     "data": {
      "text/plain": [
       "'Ame'"
      ]
     },
     "execution_count": 13,
     "metadata": {},
     "output_type": "execute_result"
    }
   ],
   "source": [
    "match5=re.search('A.e',s)\n",
    "match5.group()"
   ]
  },
  {
   "cell_type": "code",
   "execution_count": 14,
   "id": "4d23b846",
   "metadata": {},
   "outputs": [
    {
     "data": {
      "text/plain": [
       "'Americ'"
      ]
     },
     "execution_count": 14,
     "metadata": {},
     "output_type": "execute_result"
    }
   ],
   "source": [
    "match6=re.search('A.e...',s)\n",
    "match6.group()"
   ]
  },
  {
   "cell_type": "code",
   "execution_count": 15,
   "id": "0e28171a",
   "metadata": {},
   "outputs": [
    {
     "data": {
      "text/plain": [
       "'America'"
      ]
     },
     "execution_count": 15,
     "metadata": {},
     "output_type": "execute_result"
    }
   ],
   "source": [
    "match7=re.search('.......',s)\n",
    "match7.group()"
   ]
  },
  {
   "cell_type": "code",
   "execution_count": 16,
   "id": "06782150",
   "metadata": {},
   "outputs": [
    {
     "data": {
      "text/plain": [
       "'America i'"
      ]
     },
     "execution_count": 16,
     "metadata": {},
     "output_type": "execute_result"
    }
   ],
   "source": [
    "sA = \"America is Shite\"\n",
    "match8=re.search('.........',sA)\n",
    "match8.group()"
   ]
  },
  {
   "cell_type": "code",
   "execution_count": 20,
   "id": "b1ee78e6",
   "metadata": {},
   "outputs": [
    {
     "data": {
      "text/plain": [
       "'Shite'"
      ]
     },
     "execution_count": 20,
     "metadata": {},
     "output_type": "execute_result"
    }
   ],
   "source": [
    "sA = \"America is Shite\"\n",
    "match9=re.search('S\\w\\w\\w\\w',sA)\n",
    "match9.group()\n",
    "#/w will take only letter (not space)"
   ]
  },
  {
   "cell_type": "code",
   "execution_count": 19,
   "id": "21d40609",
   "metadata": {},
   "outputs": [
    {
     "name": "stdout",
     "output_type": "stream",
     "text": [
      "None\n"
     ]
    }
   ],
   "source": [
    "match10=re.search('i\\w\\w\\w\\w',sA)\n",
    "print(match10)"
   ]
  },
  {
   "cell_type": "code",
   "execution_count": 23,
   "id": "82ccadaf",
   "metadata": {},
   "outputs": [
    {
     "data": {
      "text/plain": [
       "'America'"
      ]
     },
     "execution_count": 23,
     "metadata": {},
     "output_type": "execute_result"
    }
   ],
   "source": [
    "match11=re.search('A\\w+a',sA)\n",
    "match11.group()#\\w+ means multiple characters"
   ]
  },
  {
   "cell_type": "code",
   "execution_count": 1,
   "id": "1e9ed1f4",
   "metadata": {},
   "outputs": [
    {
     "data": {
      "text/plain": [
       "'Bangladesh is our h'"
      ]
     },
     "execution_count": 1,
     "metadata": {},
     "output_type": "execute_result"
    }
   ],
   "source": [
    "import re\n",
    "s =\"Bangladesh is our homeland\"\n",
    "match=re.search('B.+h',s)\n",
    "match.group()"
   ]
  },
  {
   "cell_type": "code",
   "execution_count": 6,
   "id": "2a7427eb",
   "metadata": {},
   "outputs": [
    {
     "name": "stdout",
     "output_type": "stream",
     "text": [
      "5\n",
      "01704210609\n"
     ]
    }
   ],
   "source": [
    "#Rest of codes\n",
    "import re\n",
    "s=\"house number:5, phone number:01704210609\"\n",
    "match1=re.search('\\d+',s)\n",
    "print(match1.group())\n",
    "match2=re.search('\\d{11}',s)\n",
    "print(match2.group())\n"
   ]
  },
  {
   "cell_type": "code",
   "execution_count": 5,
   "id": "692b307d",
   "metadata": {},
   "outputs": [
    {
     "data": {
      "text/plain": [
       "'017 04210609'"
      ]
     },
     "execution_count": 5,
     "metadata": {},
     "output_type": "execute_result"
    }
   ],
   "source": [
    "import re\n",
    "s1=\"house number:5, phone number:017 04210609.\"\n",
    "match3=re.search(r'\\d{3}\\s*\\d{8}',s1)\n",
    "match3.group()"
   ]
  },
  {
   "cell_type": "code",
   "execution_count": 1,
   "id": "516bd536",
   "metadata": {},
   "outputs": [
    {
     "data": {
      "text/plain": [
       "['01704210609', '00000000000', '01552312680', '01311177837']"
      ]
     },
     "execution_count": 1,
     "metadata": {},
     "output_type": "execute_result"
    }
   ],
   "source": [
    "import re\n",
    "text = \"multiple numbers, 01704210609,00000000000,01552312680,01311177837\"\n",
    "outcome=re.findall(r'\\d{3}\\s*\\d{8}',text)\n",
    "outcome"
   ]
  },
  {
   "cell_type": "code",
   "execution_count": 4,
   "id": "5cfbf417",
   "metadata": {},
   "outputs": [
    {
     "data": {
      "text/plain": [
       "['01704210609', '01552312680', '01311177837']"
      ]
     },
     "execution_count": 4,
     "metadata": {},
     "output_type": "execute_result"
    }
   ],
   "source": [
    "import re\n",
    "text = \"multiple numbers, 01704210609,00000000000,01552312680,01311177837\"\n",
    "outcome=re.findall(r'01[356789]\\s*\\d{8}',text)\n",
    "outcome"
   ]
  },
  {
   "cell_type": "code",
   "execution_count": 11,
   "id": "73ca2eac",
   "metadata": {},
   "outputs": [
    {
     "data": {
      "text/plain": [
       "['japan']"
      ]
     },
     "execution_count": 11,
     "metadata": {},
     "output_type": "execute_result"
    }
   ],
   "source": [
    "import re\n",
    "s=\"America japan america\"\n",
    "re.findall(r'japan',s)"
   ]
  },
  {
   "cell_type": "code",
   "execution_count": 7,
   "id": "4f77414e",
   "metadata": {},
   "outputs": [
    {
     "data": {
      "text/plain": [
       "[]"
      ]
     },
     "execution_count": 7,
     "metadata": {},
     "output_type": "execute_result"
    }
   ],
   "source": [
    "re.findall(r'^japan',s)"
   ]
  },
  {
   "cell_type": "code",
   "execution_count": 8,
   "id": "caee788a",
   "metadata": {},
   "outputs": [
    {
     "data": {
      "text/plain": [
       "[]"
      ]
     },
     "execution_count": 8,
     "metadata": {},
     "output_type": "execute_result"
    }
   ],
   "source": [
    "re.findall(r'japan$',s)"
   ]
  },
  {
   "cell_type": "code",
   "execution_count": 9,
   "id": "6c300a4d",
   "metadata": {},
   "outputs": [
    {
     "data": {
      "text/plain": [
       "['America']"
      ]
     },
     "execution_count": 9,
     "metadata": {},
     "output_type": "execute_result"
    }
   ],
   "source": [
    "re.findall(r'^America',s)"
   ]
  },
  {
   "cell_type": "code",
   "execution_count": 10,
   "id": "d154a0b5",
   "metadata": {},
   "outputs": [
    {
     "data": {
      "text/plain": [
       "['america']"
      ]
     },
     "execution_count": 10,
     "metadata": {},
     "output_type": "execute_result"
    }
   ],
   "source": [
    "re.findall(r'america$',s)"
   ]
  },
  {
   "cell_type": "code",
   "execution_count": 13,
   "id": "f2e00a85",
   "metadata": {},
   "outputs": [
    {
     "data": {
      "text/plain": [
       "['america']"
      ]
     },
     "execution_count": 13,
     "metadata": {},
     "output_type": "execute_result"
    }
   ],
   "source": [
    "import re\n",
    "s=\"America japan america\"\n",
    "re.findall(r'America$',s,re.IGNORECASE)"
   ]
  },
  {
   "cell_type": "code",
   "execution_count": 14,
   "id": "9dd68529",
   "metadata": {},
   "outputs": [
    {
     "data": {
      "text/plain": [
       "[]"
      ]
     },
     "execution_count": 14,
     "metadata": {},
     "output_type": "execute_result"
    }
   ],
   "source": [
    "re.findall(r'bangla$',s,re.I)"
   ]
  },
  {
   "cell_type": "code",
   "execution_count": 11,
   "id": "5c6dc11f",
   "metadata": {},
   "outputs": [
    {
     "data": {
      "text/plain": [
       "['Waltuh',\n",
       " 'Put ur d away waltuh',\n",
       " \"I'm not having seggs with u right now waltuh.\"]"
      ]
     },
     "execution_count": 11,
     "metadata": {},
     "output_type": "execute_result"
    }
   ],
   "source": [
    "with open(\"file.txt\",\"w\") as f1:\n",
    "    text1=f1.write(\"Waltuh\\nPut ur d away waltuh\\nI'm not having seggs with u right now waltuh.\")\n",
    "with open(\"file.txt\",\"r\") as f:\n",
    "    text=f.read()\n",
    "text\n",
    "import re\n",
    "re.findall(r'.*?$',text)\n",
    "re.findall(r'.+?$',text,re.MULTILINE)"
   ]
  },
  {
   "cell_type": "code",
   "execution_count": 10,
   "id": "24afaf38",
   "metadata": {},
   "outputs": [
    {
     "data": {
      "text/plain": [
       "['Bob', 'Mark', 'Ted', 'Trevor']"
      ]
     },
     "execution_count": 10,
     "metadata": {},
     "output_type": "execute_result"
    }
   ],
   "source": [
    "s=\"<li>Bob</li><li>Mark</li><li>Ted</li><li>Trevor</li>\"\n",
    "outcome= re.findall(r'<li>(.*?)</li>',s)\n",
    "outcome"
   ]
  }
 ],
 "metadata": {
  "kernelspec": {
   "display_name": "Python 3 (ipykernel)",
   "language": "python",
   "name": "python3"
  },
  "language_info": {
   "codemirror_mode": {
    "name": "ipython",
    "version": 3
   },
   "file_extension": ".py",
   "mimetype": "text/x-python",
   "name": "python",
   "nbconvert_exporter": "python",
   "pygments_lexer": "ipython3",
   "version": "3.9.12"
  }
 },
 "nbformat": 4,
 "nbformat_minor": 5
}
