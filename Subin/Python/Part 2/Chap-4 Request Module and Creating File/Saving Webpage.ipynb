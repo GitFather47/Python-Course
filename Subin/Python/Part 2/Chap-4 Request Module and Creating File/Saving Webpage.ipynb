{
 "cells": [
  {
   "cell_type": "code",
   "execution_count": 2,
   "id": "b23813e7",
   "metadata": {},
   "outputs": [],
   "source": [
    "#connecting to a webpage and saving it\n",
    "import requests\n",
    "\n",
    "response=requests.get(\"https://www.google.com\")\n",
    "with open (\"Google.html\",\"w\") as f:\n",
    "    f.write(response.text)"
   ]
  },
  {
   "cell_type": "code",
   "execution_count": 3,
   "id": "659fe69a",
   "metadata": {},
   "outputs": [
    {
     "name": "stdout",
     "output_type": "stream",
     "text": [
      "C:\\Users\\ARNOB\\Untitled Folder\\Google.html\n"
     ]
    },
    {
     "data": {
      "text/plain": [
       "True"
      ]
     },
     "execution_count": 3,
     "metadata": {},
     "output_type": "execute_result"
    }
   ],
   "source": [
    "#file path and webpage opening\n",
    "import os \n",
    "import webbrowser as wb\n",
    "\n",
    "file_path=os.path.realpath(\"Google.html\")#webpage opening\n",
    "print(file_path)\n",
    "wb.open(\"file://\"+file_path)#webpage opening"
   ]
  }
 ],
 "metadata": {
  "kernelspec": {
   "display_name": "Python 3 (ipykernel)",
   "language": "python",
   "name": "python3"
  },
  "language_info": {
   "codemirror_mode": {
    "name": "ipython",
    "version": 3
   },
   "file_extension": ".py",
   "mimetype": "text/x-python",
   "name": "python",
   "nbconvert_exporter": "python",
   "pygments_lexer": "ipython3",
   "version": "3.9.12"
  }
 },
 "nbformat": 4,
 "nbformat_minor": 5
}
