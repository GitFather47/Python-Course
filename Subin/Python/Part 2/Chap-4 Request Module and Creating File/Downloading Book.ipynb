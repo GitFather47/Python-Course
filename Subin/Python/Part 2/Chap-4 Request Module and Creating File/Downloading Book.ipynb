{
 "cells": [
  {
   "cell_type": "code",
   "execution_count": 1,
   "id": "247ad726",
   "metadata": {},
   "outputs": [
    {
     "name": "stdout",
     "output_type": "stream",
     "text": [
      "Book download complete! \n"
     ]
    }
   ],
   "source": [
    "import requests\n",
    "import sys\n",
    "base_url=\"http://subeen.com/download/\"\n",
    "info_url={\"name\":\"Subeen\",\"email\":\"book@subeen.com\",\"country\":\"Bangladesh\"}\n",
    "url= base_url+\"process.php\"\n",
    "response = requests.post(url, data=info_url)\n",
    "if response.ok is False:\n",
    "    sys.exit(\"Error!\")\n",
    "with open (\"cpbook.pdf\", \"wb\") as f:\n",
    "    f.write(response.content)\n",
    "print(\"Book download complete! \")"
   ]
  }
 ],
 "metadata": {
  "kernelspec": {
   "display_name": "Python 3 (ipykernel)",
   "language": "python",
   "name": "python3"
  },
  "language_info": {
   "codemirror_mode": {
    "name": "ipython",
    "version": 3
   },
   "file_extension": ".py",
   "mimetype": "text/x-python",
   "name": "python",
   "nbconvert_exporter": "python",
   "pygments_lexer": "ipython3",
   "version": "3.9.12"
  }
 },
 "nbformat": 4,
 "nbformat_minor": 5
}
