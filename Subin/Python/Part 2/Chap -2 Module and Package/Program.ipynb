{
 "cells": [
  {
   "cell_type": "code",
   "execution_count": 1,
   "id": "9d2aa795",
   "metadata": {},
   "outputs": [
    {
     "name": "stdout",
     "output_type": "stream",
     "text": [
      "importing Jupyter notebook from fibo.ipynb\n",
      "[1]\n",
      "[1, 1]\n",
      "[1, 1, 2]\n",
      "[1, 1, 2, 3]\n",
      "[1, 1, 2, 3, 5]\n",
      "[1, 1, 2, 3, 5, 8]\n",
      "[1, 1, 2, 3, 5, 8, 13]\n",
      "[1, 1, 2, 3, 5, 8, 13, 21]\n",
      "[1, 1, 2, 3, 5, 8, 13, 21, 34]\n",
      "[1, 1, 2, 3, 5, 8, 13, 21, 34, 55]\n",
      "[1]\n",
      "[1, 1]\n",
      "[1, 1, 2, 3, 5, 8, 13, 21, 34, 55]\n",
      "Here's Jhonny.py\n",
      "15th fibonacci number is  610\n"
     ]
    }
   ],
   "source": [
    "import import_ipynb\n",
    "import fibo\n",
    "print(\"Here's Jhonny.py\")\n",
    "print(\"15th fibonacci number is \", fibo.find_fib(15))"
   ]
  },
  {
   "cell_type": "code",
   "execution_count": 2,
   "id": "8e629fcf",
   "metadata": {},
   "outputs": [
    {
     "name": "stdout",
     "output_type": "stream",
     "text": [
      "importing Jupyter notebook from trial.ipynb\n",
      "My name is trial\n",
      "trial\n"
     ]
    }
   ],
   "source": [
    "import trial\n",
    "print(trial.__name__)"
   ]
  },
  {
   "cell_type": "code",
   "execution_count": 3,
   "id": "b574f662",
   "metadata": {},
   "outputs": [
    {
     "data": {
      "text/plain": [
       "['C:\\\\Users\\\\ARNOB\\\\Untitled Folder',\n",
       " 'C:\\\\anaconda3\\\\python39.zip',\n",
       " 'C:\\\\anaconda3\\\\DLLs',\n",
       " 'C:\\\\anaconda3\\\\lib',\n",
       " 'C:\\\\anaconda3',\n",
       " '',\n",
       " 'C:\\\\anaconda3\\\\lib\\\\site-packages',\n",
       " 'C:\\\\anaconda3\\\\lib\\\\site-packages\\\\win32',\n",
       " 'C:\\\\anaconda3\\\\lib\\\\site-packages\\\\win32\\\\lib',\n",
       " 'C:\\\\anaconda3\\\\lib\\\\site-packages\\\\Pythonwin']"
      ]
     },
     "execution_count": 3,
     "metadata": {},
     "output_type": "execute_result"
    }
   ],
   "source": [
    "import sys\n",
    "sys.path"
   ]
  }
 ],
 "metadata": {
  "kernelspec": {
   "display_name": "Python 3 (ipykernel)",
   "language": "python",
   "name": "python3"
  },
  "language_info": {
   "codemirror_mode": {
    "name": "ipython",
    "version": 3
   },
   "file_extension": ".py",
   "mimetype": "text/x-python",
   "name": "python",
   "nbconvert_exporter": "python",
   "pygments_lexer": "ipython3",
   "version": "3.9.12"
  }
 },
 "nbformat": 4,
 "nbformat_minor": 5
}
