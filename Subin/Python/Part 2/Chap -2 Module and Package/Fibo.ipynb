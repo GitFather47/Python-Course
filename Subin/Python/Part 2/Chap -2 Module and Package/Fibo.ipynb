{
 "cells": [
  {
   "cell_type": "code",
   "execution_count": 1,
   "id": "ffb825d4",
   "metadata": {},
   "outputs": [],
   "source": [
    "def find_fib(n):\n",
    "    fib_x,fib_next=1,1\n",
    "    if n<=2:\n",
    "        fib_n=1\n",
    "    else:\n",
    "        i=3\n",
    "        while i <=n:\n",
    "            i+=1\n",
    "            fib_t=fib_x+fib_next\n",
    "            fib_x=fib_next\n",
    "            fib_next=fib_t\n",
    "        fib_n=fib_next\n",
    "    return fib_n\n"
   ]
  },
  {
   "cell_type": "code",
   "execution_count": 2,
   "id": "2717b904",
   "metadata": {},
   "outputs": [],
   "source": [
    "def list_fib(n):\n",
    "    fib_x,fib_next=1,1\n",
    "    fib_list=[1,1]\n",
    "    if n<=2:\n",
    "        return fib_list[:n]\n",
    "    else:\n",
    "        i=3\n",
    "        while i <=n:\n",
    "            i+=1\n",
    "            fib_t=fib_x+fib_next\n",
    "            fib_x=fib_next\n",
    "            fib_next=fib_t\n",
    "            fib_list.append(fib_next)\n",
    "        \n",
    "    return fib_list\n"
   ]
  },
  {
   "cell_type": "code",
   "execution_count": 3,
   "id": "1e84212b",
   "metadata": {},
   "outputs": [
    {
     "name": "stdout",
     "output_type": "stream",
     "text": [
      "[1]\n",
      "[1, 1]\n",
      "[1, 1, 2]\n",
      "[1, 1, 2, 3]\n",
      "[1, 1, 2, 3, 5]\n",
      "[1, 1, 2, 3, 5, 8]\n",
      "[1, 1, 2, 3, 5, 8, 13]\n",
      "[1, 1, 2, 3, 5, 8, 13, 21]\n",
      "[1, 1, 2, 3, 5, 8, 13, 21, 34]\n",
      "[1, 1, 2, 3, 5, 8, 13, 21, 34, 55]\n"
     ]
    }
   ],
   "source": [
    "for n in range(1 , 11):\n",
    "    print(list_fib(n))"
   ]
  },
  {
   "cell_type": "code",
   "execution_count": 4,
   "id": "7f156387",
   "metadata": {},
   "outputs": [
    {
     "name": "stdout",
     "output_type": "stream",
     "text": [
      "[1]\n"
     ]
    }
   ],
   "source": [
    "print(list_fib(1))"
   ]
  },
  {
   "cell_type": "code",
   "execution_count": 5,
   "id": "92e1d05d",
   "metadata": {},
   "outputs": [
    {
     "name": "stdout",
     "output_type": "stream",
     "text": [
      "[1, 1]\n"
     ]
    }
   ],
   "source": [
    "print(list_fib(2))"
   ]
  },
  {
   "cell_type": "code",
   "execution_count": 6,
   "id": "8e791ceb",
   "metadata": {},
   "outputs": [
    {
     "name": "stdout",
     "output_type": "stream",
     "text": [
      "[1, 1, 2, 3, 5, 8, 13, 21, 34, 55]\n"
     ]
    }
   ],
   "source": [
    "print(list_fib(10))"
   ]
  }
 ],
 "metadata": {
  "kernelspec": {
   "display_name": "Python 3 (ipykernel)",
   "language": "python",
   "name": "python3"
  },
  "language_info": {
   "codemirror_mode": {
    "name": "ipython",
    "version": 3
   },
   "file_extension": ".py",
   "mimetype": "text/x-python",
   "name": "python",
   "nbconvert_exporter": "python",
   "pygments_lexer": "ipython3",
   "version": "3.9.12"
  }
 },
 "nbformat": 4,
 "nbformat_minor": 5
}
