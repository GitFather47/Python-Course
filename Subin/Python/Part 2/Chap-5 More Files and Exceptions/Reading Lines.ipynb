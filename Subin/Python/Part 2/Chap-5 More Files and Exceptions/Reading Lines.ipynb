{
 "cells": [
  {
   "cell_type": "code",
   "execution_count": 1,
   "id": "67bbe226",
   "metadata": {},
   "outputs": [],
   "source": [
    "lines =[\"Tachibana\",\"Oda\",\"Kiryu\"]\n",
    "with open (\"Yakuza.txt\",\"w\") as f:\n",
    "    for line in lines:\n",
    "        f.write(line+\"\\n\")"
   ]
  },
  {
   "cell_type": "code",
   "execution_count": 2,
   "id": "54fbe8f2",
   "metadata": {},
   "outputs": [
    {
     "name": "stdout",
     "output_type": "stream",
     "text": [
      "Tachibana\n",
      "Oda\n",
      "Kiryu\n",
      "\n"
     ]
    }
   ],
   "source": [
    "with open(\"Yakuza.txt\",\"r\") as p:\n",
    "    txt = p.read()\n",
    "    print(txt)"
   ]
  },
  {
   "cell_type": "code",
   "execution_count": 9,
   "id": "e3fa4bf0",
   "metadata": {},
   "outputs": [
    {
     "name": "stdout",
     "output_type": "stream",
     "text": [
      "['Tachibana\\n', 'Oda\\n', 'Kiryu\\n']\n",
      "Tachibana\n",
      "\n",
      "Oda\n",
      "\n",
      "Kiryu\n",
      "\n"
     ]
    }
   ],
   "source": [
    "#1 check\n",
    "with open (\"Yakuza.txt \",\"r\") as s:\n",
    "    lines = s.readlines()\n",
    "    print(lines)\n",
    "    for line in lines:\n",
    "        print(line)"
   ]
  },
  {
   "cell_type": "code",
   "execution_count": 7,
   "id": "29e28e80",
   "metadata": {},
   "outputs": [
    {
     "name": "stdout",
     "output_type": "stream",
     "text": [
      "Tachibana\n",
      "\n",
      "Oda\n",
      "\n",
      "Kiryu\n",
      "\n"
     ]
    }
   ],
   "source": [
    "#2 check\n",
    "with open(\"Yakuza.txt\",\"r\") as t:\n",
    "    for line in t:\n",
    "        print(line)\n",
    "        \n"
   ]
  }
 ],
 "metadata": {
  "kernelspec": {
   "display_name": "Python 3 (ipykernel)",
   "language": "python",
   "name": "python3"
  },
  "language_info": {
   "codemirror_mode": {
    "name": "ipython",
    "version": 3
   },
   "file_extension": ".py",
   "mimetype": "text/x-python",
   "name": "python",
   "nbconvert_exporter": "python",
   "pygments_lexer": "ipython3",
   "version": "3.9.12"
  }
 },
 "nbformat": 4,
 "nbformat_minor": 5
}
