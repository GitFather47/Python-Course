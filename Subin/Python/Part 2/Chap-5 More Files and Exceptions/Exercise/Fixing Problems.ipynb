{
 "cells": [
  {
   "cell_type": "code",
   "execution_count": 1,
   "id": "f392342e",
   "metadata": {},
   "outputs": [],
   "source": [
    "with open(\"files.txt\",\"w\") as fp:\n",
    "    fp.write(\"\")\n",
    "with open(\"files.txt\",\"r\") as fp:\n",
    "    fp.read()"
   ]
  }
 ],
 "metadata": {
  "kernelspec": {
   "display_name": "Python 3 (ipykernel)",
   "language": "python",
   "name": "python3"
  },
  "language_info": {
   "codemirror_mode": {
    "name": "ipython",
    "version": 3
   },
   "file_extension": ".py",
   "mimetype": "text/x-python",
   "name": "python",
   "nbconvert_exporter": "python",
   "pygments_lexer": "ipython3",
   "version": "3.9.12"
  }
 },
 "nbformat": 4,
 "nbformat_minor": 5
}
