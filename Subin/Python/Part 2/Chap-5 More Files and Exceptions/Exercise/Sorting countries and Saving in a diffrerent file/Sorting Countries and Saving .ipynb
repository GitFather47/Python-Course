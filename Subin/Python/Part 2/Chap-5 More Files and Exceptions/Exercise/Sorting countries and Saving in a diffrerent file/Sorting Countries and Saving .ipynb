{
 "cells": [
  {
   "cell_type": "code",
   "execution_count": 1,
   "id": "bd78c383",
   "metadata": {},
   "outputs": [],
   "source": [
    "import string\n",
    "with open (\"Country.txt\",\"r\") as fp:\n",
    "    cocks=fp.readlines()\n",
    "    for e in string.ascii_uppercase:\n",
    "        r=str(e.lower())+\".txt\"\n",
    "        fs=open(r,\"w\")\n",
    "        for line in cocks:\n",
    "            if line[0]==e:\n",
    "                #CHECK!! Using this line here\"fs=open(r,\"w\")\" causes problems.Why?I should have done the \n",
    "                #same work like it's doing now\n",
    "              fs.write(line)\n",
    "\n",
    "            # I used And operator/Gate where 1*1=1 but other times 0, both party get the same letter than it will \n",
    "            #work\n",
    "    "
   ]
  }
 ],
 "metadata": {
  "kernelspec": {
   "display_name": "Python 3 (ipykernel)",
   "language": "python",
   "name": "python3"
  },
  "language_info": {
   "codemirror_mode": {
    "name": "ipython",
    "version": 3
   },
   "file_extension": ".py",
   "mimetype": "text/x-python",
   "name": "python",
   "nbconvert_exporter": "python",
   "pygments_lexer": "ipython3",
   "version": "3.9.12"
  }
 },
 "nbformat": 4,
 "nbformat_minor": 5
}
