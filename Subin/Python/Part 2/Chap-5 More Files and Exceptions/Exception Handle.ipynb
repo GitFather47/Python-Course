{
 "cells": [
  {
   "cell_type": "code",
   "execution_count": 1,
   "id": "8693a87a",
   "metadata": {},
   "outputs": [],
   "source": [
    "def div(x, y):\n",
    "    #introducing exception handle block try...except\n",
    "    #where try block contains expressions and except block contains errors\n",
    "    #program will stop if it finds any error,next code will not run .Therefore, we use this Blocks\n",
    "    try:\n",
    "        return x/y\n",
    "    except ZeroDivisionError:\n",
    "        print(\"Sorry,can't be divided by zero\")\n",
    "    except TypeError:\n",
    "        print(\"Type Error.Did you just use a string?\")"
   ]
  },
  {
   "cell_type": "code",
   "execution_count": 2,
   "id": "8c43a572",
   "metadata": {},
   "outputs": [
    {
     "name": "stdout",
     "output_type": "stream",
     "text": [
      "5.0\n",
      "Sorry,can't be divided by zero\n",
      "None\n",
      "3.0\n",
      "Type Error.Did you just use a string?\n",
      "None\n"
     ]
    }
   ],
   "source": [
    "print(div(10, 2))\n",
    "print(div(3,0))\n",
    "print(div(9,3))\n",
    "print(div(\"12\",3))"
   ]
  },
  {
   "cell_type": "code",
   "execution_count": 1,
   "id": "7f9b6d8d",
   "metadata": {},
   "outputs": [
    {
     "name": "stdout",
     "output_type": "stream",
     "text": [
      "file.txt not found.Check ur file's name properly you disingenous dense motherf**ker\n"
     ]
    }
   ],
   "source": [
    "#Exercise no 1 fixed code with try...except block\n",
    "import io\n",
    "filename=\"file.txt\"\n",
    "mode=\"r\"\n",
    "try:\n",
    "    with open(filename,mode) as f:\n",
    "        print(f.read())\n",
    "except FileNotFoundError:\n",
    "    print(filename,\"not found.Check ur file's name properly you disingenous dense motherf**ker\")\n",
    "except io.UnsuppoetedOperation:\n",
    "    print(\"*John cena pops up*Are you sure about the\",filename,\" being readable\")"
   ]
  }
 ],
 "metadata": {
  "kernelspec": {
   "display_name": "Python 3 (ipykernel)",
   "language": "python",
   "name": "python3"
  },
  "language_info": {
   "codemirror_mode": {
    "name": "ipython",
    "version": 3
   },
   "file_extension": ".py",
   "mimetype": "text/x-python",
   "name": "python",
   "nbconvert_exporter": "python",
   "pygments_lexer": "ipython3",
   "version": "3.9.12"
  }
 },
 "nbformat": 4,
 "nbformat_minor": 5
}
