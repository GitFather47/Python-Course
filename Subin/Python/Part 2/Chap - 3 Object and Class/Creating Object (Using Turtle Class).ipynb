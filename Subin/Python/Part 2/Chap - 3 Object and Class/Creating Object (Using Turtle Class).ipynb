{
 "cells": [
  {
   "cell_type": "code",
   "execution_count": null,
   "id": "3bda57a4",
   "metadata": {},
   "outputs": [],
   "source": [
    "import turtle\n",
    "turtle.circle(50)\n",
    "turtle.done()"
   ]
  },
  {
   "cell_type": "code",
   "execution_count": null,
   "id": "87682865",
   "metadata": {},
   "outputs": [],
   "source": [
    "#Creating Object\n",
    "import turtle\n",
    "tommy= turtle.Turtle()#here tommy is an object,turtle is a module  \n",
    "tommy.circle(100)\n",
    "turtle.done()"
   ]
  },
  {
   "cell_type": "code",
   "execution_count": null,
   "id": "7893cead",
   "metadata": {},
   "outputs": [],
   "source": [
    "import turtle\n",
    "type(tommy)"
   ]
  },
  {
   "cell_type": "code",
   "execution_count": null,
   "id": "cc2d5dcc",
   "metadata": {},
   "outputs": [],
   "source": [
    "import turtle\n",
    "vaas=turtle.Turtle()\n",
    "jason= turtle.Turtle()\n",
    "citra=turtle.Turtle()\n",
    "vaas.shape(\"circle\")\n",
    "jason.shape(\"square\")\n",
    "citra.shape(\"triangle\")\n",
    "vaas.left(30)\n",
    "vaas.forward(100)\n",
    "jason.backward(50)\n",
    "citra.setpos(-100, -100)\n",
    "citra.forward(30)\n",
    "citra.clear()\n",
    "vaas.clear()\n",
    "jason.clear()\n",
    "turtle.done()"
   ]
  }
 ],
 "metadata": {
  "kernelspec": {
   "display_name": "Python 3 (ipykernel)",
   "language": "python",
   "name": "python3"
  },
  "language_info": {
   "codemirror_mode": {
    "name": "ipython",
    "version": 3
   },
   "file_extension": ".py",
   "mimetype": "text/x-python",
   "name": "python",
   "nbconvert_exporter": "python",
   "pygments_lexer": "ipython3",
   "version": "3.9.12"
  }
 },
 "nbformat": 4,
 "nbformat_minor": 5
}
