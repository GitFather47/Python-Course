{
 "cells": [
  {
   "cell_type": "code",
   "execution_count": 1,
   "id": "9da9891b",
   "metadata": {},
   "outputs": [
    {
     "name": "stdout",
     "output_type": "stream",
     "text": [
      "name of the car: Corolla\n",
      "It's color:  White\n",
      "Starting the engine \n"
     ]
    }
   ],
   "source": [
    "#module>class>method\n",
    "#class=car,object=car parts ,methods=what can this car do\n",
    "class Car:\n",
    "    name = \"Corolla\"\n",
    "    color= \"White\"\n",
    "    def start():\n",
    "        print(\"Starting the engine \")\n",
    "print(\"name of the car:\", Car.name)\n",
    "print(\"It's color: \",Car.color)\n",
    "Car.start()"
   ]
  },
  {
   "cell_type": "code",
   "execution_count": 2,
   "id": "ded23c81",
   "metadata": {},
   "outputs": [
    {
     "name": "stdout",
     "output_type": "stream",
     "text": [
      "name of the car: Axio\n",
      "It's color:  Black\n",
      "Starting the engine \n"
     ]
    }
   ],
   "source": [
    "#Assiging Strings\n",
    "class Car:\n",
    "    name = \"\"\n",
    "    color= \"\"\n",
    "    def start():\n",
    "        print(\"Starting the engine \")\n",
    "Car.name=\"Axio\"\n",
    "Car.color=\"Black\"\n",
    "print(\"name of the car:\", Car.name)\n",
    "print(\"It's color: \",Car.color)\n",
    "Car.start()"
   ]
  },
  {
   "cell_type": "code",
   "execution_count": 3,
   "id": "dd3a3f0e",
   "metadata": {},
   "outputs": [
    {
     "name": "stdout",
     "output_type": "stream",
     "text": [
      "name of my car: Allion\n",
      "Starting the engine \n"
     ]
    }
   ],
   "source": [
    "class Car:\n",
    "    name = \"\"\n",
    "    color= \"\"\n",
    "    def start(self):\n",
    "        print(\"Starting the engine \")\n",
    "#creating a Car object\n",
    "my_car=Car()\n",
    "my_car.name=\"Allion\"\n",
    "\n",
    "print(\"name of my car:\", my_car.name)\n",
    "my_car.start()"
   ]
  },
  {
   "cell_type": "code",
   "execution_count": 4,
   "id": "e0d0d362",
   "metadata": {},
   "outputs": [
    {
     "name": "stdout",
     "output_type": "stream",
     "text": [
      "Premio\n",
      "White\n",
      "Starting the engine \n"
     ]
    }
   ],
   "source": [
    "class Car:\n",
    "    def __init__(self, n ,c ):\n",
    "        self.name = n\n",
    "        self.color = c\n",
    "    \n",
    "    def start(self):\n",
    "        print(\"Starting the engine \")\n",
    "#creating a Car object\n",
    "my_car=Car(\"Premio\", \"White\")\n",
    "print(my_car.name)\n",
    "print(my_car.color)\n",
    "my_car.start()"
   ]
  },
  {
   "cell_type": "code",
   "execution_count": 5,
   "id": "418dcf8a",
   "metadata": {},
   "outputs": [
    {
     "name": "stdout",
     "output_type": "stream",
     "text": [
      "name: Premio\n",
      "color: White\n",
      "Starting the engine \n"
     ]
    }
   ],
   "source": [
    "class Car:\n",
    "    def __init__(self, n ,c ):\n",
    "        self.name = n\n",
    "        self.color = c\n",
    "    \n",
    "    def start(self):\n",
    "        print(\"name:\",self.name)\n",
    "        print(\"color:\",self.color)\n",
    "        print(\"Starting the engine \")\n",
    "#creating a Car object\n",
    "my_car=Car(\"Premio\", \"White\")\n",
    "\n",
    "my_car.start()#or Car.start(my_car)"
   ]
  },
  {
   "cell_type": "code",
   "execution_count": 6,
   "id": "30b5665c",
   "metadata": {},
   "outputs": [
    {
     "name": "stdout",
     "output_type": "stream",
     "text": [
      "name: Premio\n",
      "color: White\n",
      "Starting the engine \n",
      "name: Allion\n",
      "color: Blue\n",
      "Starting the engine \n",
      "name: Corolla\n",
      "color: Black\n",
      "Starting the engine \n"
     ]
    }
   ],
   "source": [
    "#Multiple objects\n",
    "class Car:\n",
    "    def __init__(self, n ,c ):\n",
    "        self.name = n\n",
    "        self.color = c\n",
    "    \n",
    "    def start(self):\n",
    "        print(\"name:\",self.name)\n",
    "        print(\"color:\",self.color)\n",
    "        print(\"Starting the engine \")\n",
    "#creating a Car object\n",
    "my_car1=Car(\"Premio\", \"White\")\n",
    "my_car1.start()\n",
    "my_car2=Car(\"Allion\", \"Blue\")\n",
    "my_car2.start()\n",
    "my_car3=Car(\"Corolla\", \"Black\")\n",
    "my_car3.start()"
   ]
  },
  {
   "cell_type": "code",
   "execution_count": 7,
   "id": "f249d13c",
   "metadata": {},
   "outputs": [
    {
     "name": "stdout",
     "output_type": "stream",
     "text": [
      "Premio White 2019\n"
     ]
    }
   ],
   "source": [
    "class Car:\n",
    "    def __init__(self, n ,c ):\n",
    "        self.name = n\n",
    "        self.color = c\n",
    "    \n",
    "    def start(self):\n",
    "        print(\"Starting the engine \")\n",
    "#creating a Car object\n",
    "car=Car(\"Premio\", \"White\")\n",
    "car.year=2019\n",
    "print(car.name, car.color, car.year)"
   ]
  }
 ],
 "metadata": {
  "kernelspec": {
   "display_name": "Python 3 (ipykernel)",
   "language": "python",
   "name": "python3"
  },
  "language_info": {
   "codemirror_mode": {
    "name": "ipython",
    "version": 3
   },
   "file_extension": ".py",
   "mimetype": "text/x-python",
   "name": "python",
   "nbconvert_exporter": "python",
   "pygments_lexer": "ipython3",
   "version": "3.9.12"
  }
 },
 "nbformat": 4,
 "nbformat_minor": 5
}
