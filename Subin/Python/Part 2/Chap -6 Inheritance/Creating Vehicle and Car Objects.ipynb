{
 "cells": [
  {
   "cell_type": "code",
   "execution_count": 1,
   "id": "b426430b",
   "metadata": {},
   "outputs": [],
   "source": [
    "class Vehicle:\n",
    "    \"\"\"Base\"\"\"\n",
    "    def __init__(self,name,manufacturer,color):\n",
    "        print(\"Creating a vehicle\")\n",
    "        self.name=name\n",
    "        self.manufacturer=manufacturer\n",
    "        self.color=color\n",
    "    \n",
    "    def drive(self):\n",
    "        print(\"Driving\",self.manufacturer,self.name)\n",
    "    \n",
    "    def turn(self,direction):\n",
    "        print(\"Turning\",self.name,\"to\",direction)\n",
    "    #overiding the method,check car class\n",
    "    def brake(self):\n",
    "        print(self.name,\"is stopping\")\n",
    "class Car(Vehicle):\n",
    "    \"\"\"Car inherits Vehicle\"\"\"\n",
    "    def __init__(self,name,manufacturer,color,year):\n",
    "        super().__init__(name,manufacturer,color)\n",
    "        print(\"Creating a car\")\n",
    "        #self.name=name\n",
    "        #self.manufacturer=manufacturer\n",
    "        #self.color=color\n",
    "        #Calling Parent class method on child class\n",
    "        self.year=2022\n",
    "        self.wheels=4\n",
    "        print(\"A new car has been created.Name: \",self.name)\n",
    "        print(\"It has\",self.wheels,\"wheels\",)\n",
    "        print(\"This car was built in \",self.year)\n",
    "    def turn(self,direction):\n",
    "        print(\"Turning\",self.name,\"to\",direction)\n",
    "    def change_gear(self,gear_name):\n",
    "        \"\"\"Method for changing gear\"\"\"\n",
    "        print(self.name,\"is changing gear to\",gear_name)"
   ]
  },
  {
   "cell_type": "code",
   "execution_count": 2,
   "id": "673ce0f9",
   "metadata": {},
   "outputs": [
    {
     "name": "stdout",
     "output_type": "stream",
     "text": [
      "Creating a vehicle\n",
      "Creating a vehicle\n",
      "Creating a vehicle\n",
      "Driving Walton Fusion 110 EX\n",
      "Driving Harley-Davidson Softail Delux\n",
      "Driving Ford Mustang 5.0 GT Coupe\n",
      "Turning Fusion 110 EX to left\n",
      "Turning Softail Delux to right\n",
      "Fusion 110 EX is stopping\n",
      "Softail Delux is stopping\n",
      "Mustang 5.0 GT Coupe is stopping\n"
     ]
    }
   ],
   "source": [
    "if __name__==\"__main__\":#So that it can't be imported as a module\n",
    "    v1=Vehicle(\"Fusion 110 EX\",\"Walton\",\"Black\")\n",
    "    v2=Vehicle(\"Softail Delux\",\"Harley-Davidson\",\"Blue\")\n",
    "    v3=Vehicle(\"Mustang 5.0 GT Coupe\",\"Ford\",\"Red\")\n",
    "    \n",
    "    v1.drive()\n",
    "    v2.drive()\n",
    "    v3.drive()\n",
    "    \n",
    "    v1.turn(\"left\")\n",
    "    v2.turn(\"right\")\n",
    "    \n",
    "    v1.brake()\n",
    "    v2.brake()\n",
    "    v3.brake()"
   ]
  },
  {
   "cell_type": "code",
   "execution_count": 3,
   "id": "aa2ab129",
   "metadata": {},
   "outputs": [
    {
     "name": "stdout",
     "output_type": "stream",
     "text": [
      "Creating a vehicle\n",
      "Creating a car\n",
      "A new car has been created.Name:  Mustang 5.0 GT Coupe\n",
      "It has 4 wheels\n",
      "This car was built in  2022\n",
      "Mustang 5.0 GT Coupe 2022 4\n",
      "Driving Ford Mustang 5.0 GT Coupe\n",
      "Turning Mustang 5.0 GT Coupe to left\n",
      "Mustang 5.0 GT Coupe is stopping\n",
      "Mustang 5.0 GT Coupe is changing gear to Low\n",
      "Creating a vehicle\n"
     ]
    }
   ],
   "source": [
    "if __name__==\"__main__\":\n",
    "    c=Car(\"Mustang 5.0 GT Coupe\",\"Ford\",\"Red\",2017)\n",
    "    print(c.name,c.year,c.wheels)#congested\n",
    "    c.drive()\n",
    "    c.turn(\"left\")\n",
    "    c.brake()\n",
    "    c.change_gear(\"Low\")\n",
    "    v=Vehicle(\"Softtail Delux\",\"Harley-Davidson\",\"Blue\")"
   ]
  },
  {
   "cell_type": "code",
   "execution_count": 4,
   "id": "b86632c0",
   "metadata": {},
   "outputs": [
    {
     "data": {
      "text/plain": [
       "object"
      ]
     },
     "execution_count": 4,
     "metadata": {},
     "output_type": "execute_result"
    }
   ],
   "source": [
    "ob=object()\n",
    "type(ob)"
   ]
  },
  {
   "cell_type": "code",
   "execution_count": 5,
   "id": "9458824d",
   "metadata": {},
   "outputs": [
    {
     "name": "stdout",
     "output_type": "stream",
     "text": [
      "Turning Mustang 5.0 GT Coupe to left\n",
      "Turning Softtail Delux to left\n"
     ]
    }
   ],
   "source": [
    "if __name__==\"__main__\":\n",
    "    c.turn(\"left\")\n",
    "    v.turn(\"left\")  "
   ]
  },
  {
   "cell_type": "code",
   "execution_count": null,
   "id": "ca2a5848",
   "metadata": {},
   "outputs": [],
   "source": []
  }
 ],
 "metadata": {
  "kernelspec": {
   "display_name": "Python 3 (ipykernel)",
   "language": "python",
   "name": "python3"
  },
  "language_info": {
   "codemirror_mode": {
    "name": "ipython",
    "version": 3
   },
   "file_extension": ".py",
   "mimetype": "text/x-python",
   "name": "python",
   "nbconvert_exporter": "python",
   "pygments_lexer": "ipython3",
   "version": "3.9.12"
  }
 },
 "nbformat": 4,
 "nbformat_minor": 5
}
